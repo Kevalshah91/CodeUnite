{
 "cells": [
  {
   "cell_type": "code",
   "execution_count": 1,
   "id": "98e9cf77",
   "metadata": {},
   "outputs": [
    {
     "name": "stdout",
     "output_type": "stream",
     "text": [
      "Hello Cosmos\n"
     ]
    }
   ],
   "source": [
    "print(\"Hello Cosmos\")"
   ]
  },
  {
   "cell_type": "code",
   "execution_count": 8,
   "id": "dc1b6e12",
   "metadata": {},
   "outputs": [
    {
     "name": "stdout",
     "output_type": "stream",
     "text": [
      "[102, 106, 108, 135, 139, 147, 158, 164, 179, 186]\n",
      "Smallest :  102\n"
     ]
    }
   ],
   "source": [
    "# Write a program to randomly select 10 integer elements from the range 100 to 200 and find the smallest among all.\n",
    "\n",
    "import random \n",
    "nums = []\n",
    "for i in range(10):\n",
    "    nums.append(random.randint(100,200))\n",
    "    nums.sort()\n",
    "print(nums)\n",
    "print(\"Smallest : \",nums[0])"
   ]
  },
  {
   "cell_type": "code",
   "execution_count": 6,
   "id": "6c9e302e",
   "metadata": {},
   "outputs": [
    {
     "data": {
      "text/plain": [
       "[120, 150, 104, 137, 171, 125, 153, 172, 194, 121]"
      ]
     },
     "execution_count": 6,
     "metadata": {},
     "output_type": "execute_result"
    }
   ],
   "source": [
    "nums"
   ]
  },
  {
   "cell_type": "code",
   "execution_count": 10,
   "id": "3a86f913",
   "metadata": {},
   "outputs": [
    {
     "name": "stdout",
     "output_type": "stream",
     "text": [
      "{'India': 'Rupees', 'Russia': 'Ruble', 'Japan': 'Yen', 'Australia': 'AUSD', 'England': 'Pounds'}\n"
     ]
    }
   ],
   "source": [
    "# Create a dictionary of 5 countries with their currency details and display them.\n",
    "d={\"India\":\"Rupees\",\"Russia\":\"Ruble\",\"Japan\":\"Yen\",\"Australia\":\"AUSD\",\"England\":\"Pounds\"}\n",
    "print(d)"
   ]
  },
  {
   "cell_type": "code",
   "execution_count": 12,
   "id": "58d387e7",
   "metadata": {},
   "outputs": [
    {
     "name": "stdout",
     "output_type": "stream",
     "text": [
      "Enter your sentence : Hello keval\n",
      "Hello-keval\n"
     ]
    }
   ],
   "source": [
    "# Write a program that takes a sentence as input, replaces each blank with a hyphen, and prints the modified sentence\n",
    "s = input(\"Enter your sentence : \")\n",
    "s1 = s.replace(\" \",\"-\")\n",
    "print(s1)"
   ]
  },
  {
   "cell_type": "code",
   "execution_count": 16,
   "id": "945cb8d5",
   "metadata": {},
   "outputs": [
    {
     "name": "stdout",
     "output_type": "stream",
     "text": [
      "Enter the coefficient a: 3\n",
      "Enter the coefficient b: 8\n",
      "Enter the coefficient c: -12\n",
      "Root 1: (1.0703675169759927+0j)\n",
      "Root 2: (-3.7370341836426597+0j)\n"
     ]
    }
   ],
   "source": [
    "import cmath \n",
    "\n",
    "a = float(input(\"Enter the coefficient a: \"))\n",
    "b = float(input(\"Enter the coefficient b: \"))\n",
    "c = float(input(\"Enter the coefficient c: \"))\n",
    "\n",
    "d = cmath.sqrt(b**2 - 4*a*c)\n",
    "\n",
    "r1 = (-b + d)/(2*a)\n",
    "r2 = (-b - d)/(2*a)\n",
    "print(f\"Root 1: {r1}\")\n",
    "print(f\"Root 2: {r2}\")"
   ]
  },
  {
   "cell_type": "code",
   "execution_count": 5,
   "id": "1920e2a6",
   "metadata": {},
   "outputs": [
    {
     "name": "stdout",
     "output_type": "stream",
     "text": [
      "Enter number of terms : 10\n",
      "0\n",
      "1\n",
      "1\n",
      "2\n",
      "3\n",
      "5\n",
      "8\n",
      "13\n",
      "21\n",
      "34\n"
     ]
    }
   ],
   "source": [
    "# fibonacci\n",
    "a=0\n",
    "b=1\n",
    "\n",
    "n=int(input(\"Enter number of terms : \"))\n",
    "print(a)\n",
    "print(b)\n",
    "for i in range(2,n):\n",
    "    temp=a+b\n",
    "    print(temp)\n",
    "    a=b\n",
    "    b=temp"
   ]
  },
  {
   "cell_type": "code",
   "execution_count": 9,
   "id": "84fef296",
   "metadata": {},
   "outputs": [
    {
     "name": "stdout",
     "output_type": "stream",
     "text": [
      "Mean :  5.5\n"
     ]
    }
   ],
   "source": [
    "# Write a function to calculate the arithmetic mean of a variable number of values\n",
    "def mean(a):\n",
    "    n = len(a)\n",
    "    m = sum(a)/len(a)\n",
    "    print(\"Mean : \",m)\n",
    "mean([1,2,3,4,5,6,7,8,9,10])"
   ]
  },
  {
   "cell_type": "markdown",
   "id": "4eae8caf",
   "metadata": {},
   "source": [
    "\n",
    "Syntax: lambda arguments : expression\n",
    "\n",
    "This function can have any number of arguments but only one expression, which is evaluated and returned.\n",
    "One is free to use lambda functions wherever function objects are required.\n",
    "You need to keep in your knowledge that lambda functions are syntactically restricted to a single expression."
   ]
  },
  {
   "cell_type": "code",
   "execution_count": 15,
   "id": "cf4614ca",
   "metadata": {},
   "outputs": [],
   "source": [
    "#  Write a lambda function to find the largest of 2 numbers.\n",
    "m = lambda a,b : a if(a>b) else(b if (b>a) else(print(\"Equal\")))"
   ]
  },
  {
   "cell_type": "code",
   "execution_count": 16,
   "id": "fe8d319a",
   "metadata": {},
   "outputs": [
    {
     "data": {
      "text/plain": [
       "2"
      ]
     },
     "execution_count": 16,
     "metadata": {},
     "output_type": "execute_result"
    }
   ],
   "source": [
    "m(1,2)"
   ]
  },
  {
   "cell_type": "code",
   "execution_count": 17,
   "id": "d8f4cfe7",
   "metadata": {},
   "outputs": [
    {
     "data": {
      "text/plain": [
       "11"
      ]
     },
     "execution_count": 17,
     "metadata": {},
     "output_type": "execute_result"
    }
   ],
   "source": [
    "m(-4,11)"
   ]
  },
  {
   "cell_type": "code",
   "execution_count": 18,
   "id": "2e238c2d",
   "metadata": {},
   "outputs": [
    {
     "name": "stdout",
     "output_type": "stream",
     "text": [
      "Equal\n"
     ]
    }
   ],
   "source": [
    "m(-3,-3)"
   ]
  },
  {
   "cell_type": "code",
   "execution_count": 19,
   "id": "203e64e9",
   "metadata": {},
   "outputs": [],
   "source": [
    "# Write a program to find the factorial of a given number using recursion.\n",
    "def fact(num):\n",
    "    if num<=1:\n",
    "        return 1\n",
    "    else:\n",
    "        return num*fact(num-1)"
   ]
  },
  {
   "cell_type": "code",
   "execution_count": 20,
   "id": "aaee0815",
   "metadata": {},
   "outputs": [
    {
     "data": {
      "text/plain": [
       "6"
      ]
     },
     "execution_count": 20,
     "metadata": {},
     "output_type": "execute_result"
    }
   ],
   "source": [
    "fact(3)"
   ]
  },
  {
   "cell_type": "code",
   "execution_count": 21,
   "id": "9b737bd6",
   "metadata": {},
   "outputs": [
    {
     "data": {
      "text/plain": [
       "1"
      ]
     },
     "execution_count": 21,
     "metadata": {},
     "output_type": "execute_result"
    }
   ],
   "source": [
    "fact(0)"
   ]
  },
  {
   "cell_type": "code",
   "execution_count": 25,
   "id": "64d0587f",
   "metadata": {},
   "outputs": [],
   "source": [
    "# Write a program to calculate the factorial of a number using loops\n",
    "def factorial(num):\n",
    "    if num <= 1:\n",
    "        fact = 1\n",
    "    for i in range(1,num):\n",
    "        fact=num*i\n",
    "    print(\"Factorial : \",fact)"
   ]
  },
  {
   "cell_type": "code",
   "execution_count": 26,
   "id": "dce90908",
   "metadata": {},
   "outputs": [
    {
     "name": "stdout",
     "output_type": "stream",
     "text": [
      "Factorial :  6\n"
     ]
    }
   ],
   "source": [
    "factorial(3)"
   ]
  },
  {
   "cell_type": "code",
   "execution_count": 27,
   "id": "b2027357",
   "metadata": {},
   "outputs": [
    {
     "name": "stdout",
     "output_type": "stream",
     "text": [
      "Factorial :  1\n"
     ]
    }
   ],
   "source": [
    "factorial(0)"
   ]
  },
  {
   "cell_type": "code",
   "execution_count": 29,
   "id": "4d983fa3",
   "metadata": {},
   "outputs": [
    {
     "name": "stdout",
     "output_type": "stream",
     "text": [
      "Enter string : lavek\n",
      "keval\n"
     ]
    }
   ],
   "source": [
    "# Create a script to reverse a string entered by the user\n",
    "s = input(\"Enter string : \")\n",
    "r = s[::-1]\n",
    "print(r)"
   ]
  },
  {
   "cell_type": "code",
   "execution_count": 34,
   "id": "34c5f7cc",
   "metadata": {},
   "outputs": [],
   "source": [
    "#  Develop a program to find the largest and smallest elements in an array.\n",
    "def lag_small(a):\n",
    "    a.sort()\n",
    "    small = a[0]\n",
    "    large = a[-1]\n",
    "    print(\"Smallest is : \",small)\n",
    "    print(\"Largest is : \",large)"
   ]
  },
  {
   "cell_type": "code",
   "execution_count": 35,
   "id": "40d11f5c",
   "metadata": {},
   "outputs": [
    {
     "name": "stdout",
     "output_type": "stream",
     "text": [
      "Smallest is :  -1\n",
      "Largest is :  23\n"
     ]
    }
   ],
   "source": [
    "lag_small([2,5,1,9,23,-1])"
   ]
  },
  {
   "cell_type": "code",
   "execution_count": 37,
   "id": "22b3c1cb",
   "metadata": {},
   "outputs": [],
   "source": [
    "#  Write a function that checks whether a passed string is a palindrome or not\n",
    "def is_pal(s):\n",
    "    if s == s[::-1]:\n",
    "        print(\"It is palindrome\")\n",
    "    else:\n",
    "        print(\"Not a palindrome\")"
   ]
  },
  {
   "cell_type": "code",
   "execution_count": 38,
   "id": "245755df",
   "metadata": {},
   "outputs": [
    {
     "name": "stdout",
     "output_type": "stream",
     "text": [
      "It is palindrome\n"
     ]
    }
   ],
   "source": [
    "is_pal(\"racecar\")"
   ]
  },
  {
   "cell_type": "code",
   "execution_count": 39,
   "id": "e634a917",
   "metadata": {},
   "outputs": [
    {
     "name": "stdout",
     "output_type": "stream",
     "text": [
      "Not a palindrome\n"
     ]
    }
   ],
   "source": [
    "is_pal(\"salt\")"
   ]
  },
  {
   "cell_type": "code",
   "execution_count": 59,
   "id": "898a1fd3",
   "metadata": {},
   "outputs": [],
   "source": [
    "#  Develop a Python function that merges two dictionaries into one\n",
    "def merge(d1,d2):\n",
    "    x=d1.copy()\n",
    "    y=x.update(d2)\n",
    "    print(y)"
   ]
  },
  {
   "cell_type": "code",
   "execution_count": 63,
   "id": "6ad3ebc7",
   "metadata": {},
   "outputs": [
    {
     "data": {
      "text/plain": [
       "{'Goku': 'Ultra Instinct',\n",
       " 'Vegeta': 'Super Saiyan Blue Evolution',\n",
       " 'Gohan': 'Ultimate Gohan',\n",
       " 'Frieza': 'Black Frieza'}"
      ]
     },
     "execution_count": 63,
     "metadata": {},
     "output_type": "execute_result"
    }
   ],
   "source": [
    "d1={'Goku': 'Ultra Instinct',\n",
    "    'Vegeta': 'Super Saiyan Blue Evolution',\n",
    "    'Gohan': 'Ultimate Gohan'}\n",
    "d2={'Frieza': 'Black Frieza'}\n",
    "merge(d1,d2)"
   ]
  },
  {
   "cell_type": "code",
   "execution_count": 86,
   "id": "43df2165",
   "metadata": {},
   "outputs": [],
   "source": [
    "# mplement a Python class representing a Rectangle with methods to calculate area and perimeter\n",
    "class Rectangle:\n",
    "    def __init__(self,length,breadth):\n",
    "        self.length = length\n",
    "        self.breadth = breadth\n",
    "    def area(self):\n",
    "        print(\"Area : \",abs(self.length*self.breadth))\n",
    "    def perimeter(self):\n",
    "        print(\"Perimeter : \",abs(2*(self.length+self.breadth)))"
   ]
  },
  {
   "cell_type": "code",
   "execution_count": 88,
   "id": "545d9b08",
   "metadata": {},
   "outputs": [
    {
     "name": "stdout",
     "output_type": "stream",
     "text": [
      "Area :  110\n",
      "Perimeter :  2\n"
     ]
    }
   ],
   "source": [
    "rect = Rectangle(-11,10)\n",
    "rect.area()\n",
    "rect.perimeter()"
   ]
  },
  {
   "cell_type": "code",
   "execution_count": 101,
   "id": "32a2f76f",
   "metadata": {},
   "outputs": [],
   "source": [
    "#  Develop a script to find the GCD (Greatest Common Divisor) of two numbers\n",
    "def gcd(num1,num2):\n",
    "    for i in range(1,max(num1,num2)):\n",
    "        if num1%i==0 and num2%i==0:\n",
    "            gcd = i\n",
    "    print(\"GCD : \",gcd)"
   ]
  },
  {
   "cell_type": "code",
   "execution_count": 102,
   "id": "da69d999",
   "metadata": {},
   "outputs": [
    {
     "name": "stdout",
     "output_type": "stream",
     "text": [
      "GCD :  1\n"
     ]
    }
   ],
   "source": [
    "gcd(7,-1)"
   ]
  },
  {
   "cell_type": "code",
   "execution_count": 103,
   "id": "d565f56a",
   "metadata": {},
   "outputs": [
    {
     "name": "stdout",
     "output_type": "stream",
     "text": [
      "GCD :  3\n"
     ]
    }
   ],
   "source": [
    "gcd(9,3)"
   ]
  },
  {
   "cell_type": "code",
   "execution_count": 104,
   "id": "607351b4",
   "metadata": {},
   "outputs": [],
   "source": [
    "def gcd_euclid(num1, num2):\n",
    "    while num2:\n",
    "        num1, num2 = num2, num1 % num2\n",
    "    return num1"
   ]
  },
  {
   "cell_type": "code",
   "execution_count": 105,
   "id": "084603f0",
   "metadata": {},
   "outputs": [
    {
     "data": {
      "text/plain": [
       "9"
      ]
     },
     "execution_count": 105,
     "metadata": {},
     "output_type": "execute_result"
    }
   ],
   "source": [
    "gcd_euclid(9,99)"
   ]
  },
  {
   "cell_type": "code",
   "execution_count": 116,
   "id": "9c26c39c",
   "metadata": {},
   "outputs": [],
   "source": [
    "#  Write a Python function to find the sum of digits of a number using recursion\n",
    "def rec_sum(num):\n",
    "    if (num!=0):\n",
    "        return num%10 + rec_sum(num//10)\n",
    "    else:\n",
    "        return 0"
   ]
  },
  {
   "cell_type": "code",
   "execution_count": 118,
   "id": "bf65f117",
   "metadata": {},
   "outputs": [
    {
     "data": {
      "text/plain": [
       "26"
      ]
     },
     "execution_count": 118,
     "metadata": {},
     "output_type": "execute_result"
    }
   ],
   "source": [
    "rec_sum(60009220061)"
   ]
  },
  {
   "cell_type": "code",
   "execution_count": 119,
   "id": "86efc349",
   "metadata": {},
   "outputs": [],
   "source": [
    "# Create a list of 10 random players in a football team, display the list, sort it, and remove the \n",
    "# first item with the specified value\n",
    "players = [\n",
    "    \"Sachin Tendulkar\",\n",
    "    \"Virat Kohli\",\n",
    "    \"Rohit Sharma\",\n",
    "    \"MD Siraj\",\n",
    "    \"Kuldeep Yadav\",\n",
    "    \"SKY\",\n",
    "    \"MD Shami\",\n",
    "    \"Yuvraj Singh\",\n",
    "    \"MS Dhoni\",\n",
    "    \"J Bumrah\",\n",
    "]"
   ]
  },
  {
   "cell_type": "code",
   "execution_count": 120,
   "id": "a70c11f8",
   "metadata": {},
   "outputs": [
    {
     "name": "stdout",
     "output_type": "stream",
     "text": [
      "['Sachin Tendulkar', 'Virat Kohli', 'Rohit Sharma', 'MD Siraj', 'Kuldeep Yadav', 'SKY', 'MD Shami', 'Yuvraj Singh', 'MS Dhoni', 'J Bumrah']\n"
     ]
    }
   ],
   "source": [
    "print(players)"
   ]
  },
  {
   "cell_type": "code",
   "execution_count": 122,
   "id": "3e517c08",
   "metadata": {},
   "outputs": [
    {
     "data": {
      "text/plain": [
       "['J Bumrah',\n",
       " 'Kuldeep Yadav',\n",
       " 'MD Shami',\n",
       " 'MD Siraj',\n",
       " 'MS Dhoni',\n",
       " 'Rohit Sharma',\n",
       " 'SKY',\n",
       " 'Sachin Tendulkar',\n",
       " 'Virat Kohli',\n",
       " 'Yuvraj Singh']"
      ]
     },
     "execution_count": 122,
     "metadata": {},
     "output_type": "execute_result"
    }
   ],
   "source": [
    "players.sort()\n",
    "players"
   ]
  },
  {
   "cell_type": "code",
   "execution_count": 123,
   "id": "1f829558",
   "metadata": {},
   "outputs": [
    {
     "data": {
      "text/plain": [
       "['Kuldeep Yadav',\n",
       " 'MD Shami',\n",
       " 'MD Siraj',\n",
       " 'MS Dhoni',\n",
       " 'Rohit Sharma',\n",
       " 'SKY',\n",
       " 'Sachin Tendulkar',\n",
       " 'Virat Kohli',\n",
       " 'Yuvraj Singh']"
      ]
     },
     "execution_count": 123,
     "metadata": {},
     "output_type": "execute_result"
    }
   ],
   "source": [
    "players.pop(0)\n",
    "players"
   ]
  },
  {
   "cell_type": "code",
   "execution_count": 126,
   "id": "11075387",
   "metadata": {},
   "outputs": [
    {
     "name": "stdout",
     "output_type": "stream",
     "text": [
      "Enter Marks : qwe\n",
      "Error: Please enter a valid number for marks.\n"
     ]
    }
   ],
   "source": [
    "# Make an \"Invalid Marks\" exception class that is thrown when marks obtained by a student exceed 100.\n",
    "class Invalid_MarksError(Exception):\n",
    "    def __init__(self,marks):\n",
    "       self.marks = marks\n",
    "       self.message = f\"Invalid Marks > 100\"\n",
    "       Exception.__init__(self,self.message)\n",
    "try:\n",
    "    marks = float(input(\"Enter Marks : \"))\n",
    "    if marks > 100:\n",
    "        raise Invalid_MarksError(marks)\n",
    "    print(\"Marks : \",marks)\n",
    "except Invalid_MarksError as e:\n",
    "    print(f\"Error : {e}\")\n",
    "except ValueError:\n",
    "    print(\"Error: Please enter a valid number for marks.\")"
   ]
  },
  {
   "cell_type": "code",
   "execution_count": 136,
   "id": "555144fc",
   "metadata": {},
   "outputs": [],
   "source": [
    "# Create a user-defined exception to display a proper message when the value of (b*d) is zero\n",
    "def is_zero(c):\n",
    "    if(c==0):\n",
    "        raise ValueError(\"Value of b*d should not be 0\")\n",
    "\n",
    "def mul(b,d):\n",
    "    try:\n",
    "        c=b*d\n",
    "        is_zero(c)\n",
    "        print(c)\n",
    "        \n",
    "    except ValueError as e:\n",
    "        print(f\"Error : {e}\")"
   ]
  },
  {
   "cell_type": "code",
   "execution_count": 140,
   "id": "128cb8f7",
   "metadata": {},
   "outputs": [
    {
     "name": "stdout",
     "output_type": "stream",
     "text": [
      "Error : Value of b*d should not be 0\n"
     ]
    }
   ],
   "source": [
    "mul(3,0)"
   ]
  },
  {
   "cell_type": "code",
   "execution_count": 138,
   "id": "7c63dda7",
   "metadata": {},
   "outputs": [
    {
     "name": "stdout",
     "output_type": "stream",
     "text": [
      "12\n"
     ]
    }
   ],
   "source": [
    "mul(3,4)"
   ]
  },
  {
   "cell_type": "code",
   "execution_count": 144,
   "id": "f7c912ee",
   "metadata": {},
   "outputs": [
    {
     "name": "stdout",
     "output_type": "stream",
     "text": [
      "Enter Numerator : 12\n",
      "Enter Denominator : 0\n",
      "Error : Denominator should not be 0\n"
     ]
    }
   ],
   "source": [
    "# Make use of the assert statement to catch AssertionError\n",
    "def divide(num,dem):\n",
    "    assert dem !=0 ,\"Denominator should not be 0\"\n",
    "    return num/dem\n",
    "\n",
    "try:\n",
    "    num=float(input(\"Enter Numerator : \"))\n",
    "    dem=float(input(\"Enter Denominator : \"))\n",
    "    result = divide(num,dem)\n",
    "    print(\"Result of division : \",result)\n",
    "except AssertionError as e:\n",
    "    print(f\"Error : {e}\")"
   ]
  },
  {
   "cell_type": "code",
   "execution_count": 145,
   "id": "bc305723",
   "metadata": {},
   "outputs": [],
   "source": [
    "import numpy as np"
   ]
  },
  {
   "cell_type": "code",
   "execution_count": 146,
   "id": "d3a39ddd",
   "metadata": {},
   "outputs": [
    {
     "data": {
      "text/plain": [
       "array([1, 1, 1, 1, 1])"
      ]
     },
     "execution_count": 146,
     "metadata": {},
     "output_type": "execute_result"
    }
   ],
   "source": [
    "# Create a NumPy array filled with all ones\n",
    "x = np.ones(5,dtype=int)\n",
    "x"
   ]
  },
  {
   "cell_type": "code",
   "execution_count": 148,
   "id": "26dfad0a",
   "metadata": {},
   "outputs": [],
   "source": [
    "# Check whether a NumPy array contains a specified row.\n",
    "w = np.array([[1,2,3],[4,5,6],[7,8,9]])"
   ]
  },
  {
   "cell_type": "code",
   "execution_count": 149,
   "id": "dd5a4439",
   "metadata": {},
   "outputs": [
    {
     "data": {
      "text/plain": [
       "array([[1, 2, 3],\n",
       "       [4, 5, 6],\n",
       "       [7, 8, 9]])"
      ]
     },
     "execution_count": 149,
     "metadata": {},
     "output_type": "execute_result"
    }
   ],
   "source": [
    "w"
   ]
  },
  {
   "cell_type": "code",
   "execution_count": 151,
   "id": "3fd38cf3",
   "metadata": {},
   "outputs": [
    {
     "name": "stdout",
     "output_type": "stream",
     "text": [
      "Row [4, 5, 6] exists\n"
     ]
    }
   ],
   "source": [
    "row = [4,5,6]\n",
    "if row in w:\n",
    "    print(f\"Row {row} exists\")\n",
    "else:\n",
    "    print(f\"Row {row} does not exists\")"
   ]
  },
  {
   "cell_type": "code",
   "execution_count": 169,
   "id": "13934886",
   "metadata": {},
   "outputs": [],
   "source": [
    "# Compute mathematical operations on Array, Add & Multiply two matrices\n",
    "mat1 = np.array([[1,2,3],[4,5,6],[7,8,9]])\n",
    "mat2 = np.identity(3,dtype=int)"
   ]
  },
  {
   "cell_type": "code",
   "execution_count": 170,
   "id": "4d87d69e",
   "metadata": {},
   "outputs": [
    {
     "name": "stdout",
     "output_type": "stream",
     "text": [
      "[[1 2 3]\n",
      " [4 5 6]\n",
      " [7 8 9]]\n",
      "_____________________\n",
      "[[1 0 0]\n",
      " [0 1 0]\n",
      " [0 0 1]]\n"
     ]
    }
   ],
   "source": [
    "print(mat1)\n",
    "print(\"_____________________\")\n",
    "print(mat2)"
   ]
  },
  {
   "cell_type": "code",
   "execution_count": 171,
   "id": "a21f7ea1",
   "metadata": {},
   "outputs": [
    {
     "data": {
      "text/plain": [
       "array([[ 2,  2,  3],\n",
       "       [ 4,  6,  6],\n",
       "       [ 7,  8, 10]])"
      ]
     },
     "execution_count": 171,
     "metadata": {},
     "output_type": "execute_result"
    }
   ],
   "source": [
    "add = np.add(mat1,mat2)\n",
    "add"
   ]
  },
  {
   "cell_type": "code",
   "execution_count": 173,
   "id": "023051bd",
   "metadata": {},
   "outputs": [
    {
     "data": {
      "text/plain": [
       "array([[1, 2, 3],\n",
       "       [4, 5, 6],\n",
       "       [7, 8, 9]])"
      ]
     },
     "execution_count": 173,
     "metadata": {},
     "output_type": "execute_result"
    }
   ],
   "source": [
    "mul = np.matmul(mat1,mat2)\n",
    "mul"
   ]
  },
  {
   "cell_type": "code",
   "execution_count": 181,
   "id": "f17e7250",
   "metadata": {},
   "outputs": [],
   "source": [
    "# Find the most frequent value in a NumPy array.\n",
    "g = np.array([1,2,3,1,2,3,4,5,1,2,3,1,2,3,1,1,1,3,3,3,3,3,3,3])\n",
    "h = np.bincount(g)\n",
    "k = np.argmax(h)"
   ]
  },
  {
   "cell_type": "code",
   "execution_count": 184,
   "id": "7e9a3ae7",
   "metadata": {},
   "outputs": [
    {
     "name": "stdout",
     "output_type": "stream",
     "text": [
      "Most Frequent value is :  3\n"
     ]
    }
   ],
   "source": [
    "print(\"Most Frequent value is : \",k)"
   ]
  },
  {
   "cell_type": "code",
   "execution_count": 186,
   "id": "a185f222",
   "metadata": {},
   "outputs": [
    {
     "data": {
      "text/plain": [
       "array([1, 2, 3, 4, 5, 6, 7, 8, 9])"
      ]
     },
     "execution_count": 186,
     "metadata": {},
     "output_type": "execute_result"
    }
   ],
   "source": [
    "# Flatten a 2D numpy array into a 1D array.\n",
    "mat1\n",
    "flat_arr = mat1.flatten()\n",
    "flat_arr"
   ]
  },
  {
   "cell_type": "code",
   "execution_count": 190,
   "id": "e55ba4ad",
   "metadata": {},
   "outputs": [],
   "source": [
    "# Calculate the sum of all columns in a 2D NumPy array.\n",
    "row_sum = np.sum(mat1,axis=1)  # sum of rows : axis = 1\n",
    "col_sum = np.sum(mat1,axis=0)"
   ]
  },
  {
   "cell_type": "code",
   "execution_count": 192,
   "id": "8d5cb82c",
   "metadata": {},
   "outputs": [
    {
     "name": "stdout",
     "output_type": "stream",
     "text": [
      "Sum of rows : [ 6 15 24]\n",
      "Sum of columns : [12 15 18]\n"
     ]
    }
   ],
   "source": [
    "print(f\"Sum of rows : {row_sum}\")\n",
    "print(f\"Sum of columns : {col_sum}\")"
   ]
  },
  {
   "cell_type": "code",
   "execution_count": 199,
   "id": "c95d0c08",
   "metadata": {},
   "outputs": [
    {
     "data": {
      "text/plain": [
       "array([[-2. ,  1. ],\n",
       "       [ 1.5, -0.5]])"
      ]
     },
     "execution_count": 199,
     "metadata": {},
     "output_type": "execute_result"
    }
   ],
   "source": [
    "# Create a Numpy program to compute the inverse of a matrix.\n",
    "inv_mat = np.linalg.inv([[1,2],[3,4]])\n",
    "inv_mat"
   ]
  },
  {
   "cell_type": "code",
   "execution_count": 202,
   "id": "de682627",
   "metadata": {},
   "outputs": [
    {
     "data": {
      "text/plain": [
       "array([-10,  -1,   1,  23,  24,  34,  67])"
      ]
     },
     "execution_count": 202,
     "metadata": {},
     "output_type": "execute_result"
    }
   ],
   "source": [
    "#  Create a Python program to sort an array of integers using Numpy\n",
    "n1 = np.array([1,24,67,23,-1,34,-10])\n",
    "n2 = np.sort(n1)\n",
    "n2"
   ]
  },
  {
   "cell_type": "code",
   "execution_count": 2,
   "id": "78da852e",
   "metadata": {},
   "outputs": [],
   "source": [
    "import pandas as pd"
   ]
  },
  {
   "cell_type": "code",
   "execution_count": 3,
   "id": "7839aee3",
   "metadata": {},
   "outputs": [
    {
     "name": "stdout",
     "output_type": "stream",
     "text": [
      "       name looks_x      type looks_y   quality\n",
      "0       cat    cute  domestic     NaN       NaN\n",
      "1  Elephant     NaN       NaN  Strong  Strength\n"
     ]
    }
   ],
   "source": [
    "#  Develop a program to merge two Pandas DataFrames\n",
    "\n",
    "animal1 = pd.DataFrame({'name': [\"cat\"], 'looks': [\"cute\"], 'type': [\"domestic\"]})\n",
    "animal2 = pd.DataFrame({'name': [\"Elephant\"], 'looks': [\"Strong\"], 'quality': [\"Strength\"]})\n",
    "\n",
    "merge = pd.merge(animal1, animal2, on='name' ,how='outer')\n",
    "print(merge)"
   ]
  },
  {
   "cell_type": "code",
   "execution_count": 4,
   "id": "a1d259f9",
   "metadata": {},
   "outputs": [],
   "source": [
    "df = pd.read_csv('bank_marketing.csv')"
   ]
  },
  {
   "cell_type": "code",
   "execution_count": 5,
   "id": "965cb0ee",
   "metadata": {},
   "outputs": [
    {
     "data": {
      "text/html": [
       "<div>\n",
       "<style scoped>\n",
       "    .dataframe tbody tr th:only-of-type {\n",
       "        vertical-align: middle;\n",
       "    }\n",
       "\n",
       "    .dataframe tbody tr th {\n",
       "        vertical-align: top;\n",
       "    }\n",
       "\n",
       "    .dataframe thead th {\n",
       "        text-align: right;\n",
       "    }\n",
       "</style>\n",
       "<table border=\"1\" class=\"dataframe\">\n",
       "  <thead>\n",
       "    <tr style=\"text-align: right;\">\n",
       "      <th></th>\n",
       "      <th>Unnamed: 0</th>\n",
       "      <th>age</th>\n",
       "      <th>job</th>\n",
       "      <th>marital</th>\n",
       "      <th>education</th>\n",
       "      <th>default</th>\n",
       "      <th>balance</th>\n",
       "      <th>housing</th>\n",
       "      <th>loan</th>\n",
       "      <th>contact</th>\n",
       "      <th>day</th>\n",
       "      <th>month</th>\n",
       "      <th>duration</th>\n",
       "      <th>campaign</th>\n",
       "      <th>pdays</th>\n",
       "      <th>previous</th>\n",
       "      <th>poutcome</th>\n",
       "      <th>deposit</th>\n",
       "    </tr>\n",
       "  </thead>\n",
       "  <tbody>\n",
       "    <tr>\n",
       "      <th>0</th>\n",
       "      <td>0</td>\n",
       "      <td>41</td>\n",
       "      <td>services</td>\n",
       "      <td>married</td>\n",
       "      <td>unknown</td>\n",
       "      <td>no</td>\n",
       "      <td>88</td>\n",
       "      <td>yes</td>\n",
       "      <td>no</td>\n",
       "      <td>cellular</td>\n",
       "      <td>11</td>\n",
       "      <td>may</td>\n",
       "      <td>105</td>\n",
       "      <td>1</td>\n",
       "      <td>336</td>\n",
       "      <td>2</td>\n",
       "      <td>failure</td>\n",
       "      <td>no</td>\n",
       "    </tr>\n",
       "    <tr>\n",
       "      <th>1</th>\n",
       "      <td>1</td>\n",
       "      <td>56</td>\n",
       "      <td>technician</td>\n",
       "      <td>married</td>\n",
       "      <td>secondary</td>\n",
       "      <td>no</td>\n",
       "      <td>1938</td>\n",
       "      <td>no</td>\n",
       "      <td>yes</td>\n",
       "      <td>cellular</td>\n",
       "      <td>26</td>\n",
       "      <td>feb</td>\n",
       "      <td>229</td>\n",
       "      <td>1</td>\n",
       "      <td>192</td>\n",
       "      <td>4</td>\n",
       "      <td>success</td>\n",
       "      <td>yes</td>\n",
       "    </tr>\n",
       "  </tbody>\n",
       "</table>\n",
       "</div>"
      ],
      "text/plain": [
       "   Unnamed: 0  age         job  marital  education default  balance housing  \\\n",
       "0           0   41    services  married    unknown      no       88     yes   \n",
       "1           1   56  technician  married  secondary      no     1938      no   \n",
       "\n",
       "  loan   contact  day month  duration  campaign  pdays  previous poutcome  \\\n",
       "0   no  cellular   11   may       105         1    336         2  failure   \n",
       "1  yes  cellular   26   feb       229         1    192         4  success   \n",
       "\n",
       "  deposit  \n",
       "0      no  \n",
       "1     yes  "
      ]
     },
     "execution_count": 5,
     "metadata": {},
     "output_type": "execute_result"
    }
   ],
   "source": [
    "df.head(2)"
   ]
  },
  {
   "cell_type": "code",
   "execution_count": 6,
   "id": "1dab3103",
   "metadata": {},
   "outputs": [
    {
     "data": {
      "text/plain": [
       "Unnamed: 0    0\n",
       "age           0\n",
       "job           0\n",
       "marital       0\n",
       "education     0\n",
       "default       0\n",
       "balance       0\n",
       "housing       0\n",
       "loan          0\n",
       "contact       0\n",
       "day           0\n",
       "month         0\n",
       "duration      0\n",
       "campaign      0\n",
       "pdays         0\n",
       "previous      0\n",
       "poutcome      0\n",
       "deposit       0\n",
       "dtype: int64"
      ]
     },
     "execution_count": 6,
     "metadata": {},
     "output_type": "execute_result"
    }
   ],
   "source": [
    "df.isna().sum()"
   ]
  },
  {
   "cell_type": "code",
   "execution_count": 7,
   "id": "02da4958",
   "metadata": {},
   "outputs": [
    {
     "data": {
      "text/plain": [
       "0"
      ]
     },
     "execution_count": 7,
     "metadata": {},
     "output_type": "execute_result"
    }
   ],
   "source": [
    "df.duplicated().sum()"
   ]
  },
  {
   "cell_type": "code",
   "execution_count": 8,
   "id": "97274da1",
   "metadata": {},
   "outputs": [],
   "source": [
    "df1=df.drop(['Unnamed: 0'],axis=1)"
   ]
  },
  {
   "cell_type": "code",
   "execution_count": 9,
   "id": "f9ff25d6",
   "metadata": {},
   "outputs": [
    {
     "data": {
      "text/plain": [
       "(5581, 18)"
      ]
     },
     "execution_count": 9,
     "metadata": {},
     "output_type": "execute_result"
    }
   ],
   "source": [
    "df.shape"
   ]
  },
  {
   "cell_type": "code",
   "execution_count": 10,
   "id": "e41ec8a3",
   "metadata": {},
   "outputs": [],
   "source": [
    "df1.dropna(inplace=True)\n",
    "df1.drop_duplicates(inplace=True)"
   ]
  },
  {
   "cell_type": "code",
   "execution_count": 11,
   "id": "ac826db7",
   "metadata": {},
   "outputs": [
    {
     "data": {
      "text/plain": [
       "(5581, 17)"
      ]
     },
     "execution_count": 11,
     "metadata": {},
     "output_type": "execute_result"
    }
   ],
   "source": [
    "df1.shape"
   ]
  },
  {
   "cell_type": "code",
   "execution_count": 12,
   "id": "858840c0",
   "metadata": {},
   "outputs": [
    {
     "data": {
      "text/plain": [
       "41.42677345537757"
      ]
     },
     "execution_count": 12,
     "metadata": {},
     "output_type": "execute_result"
    }
   ],
   "source": [
    "avg_age=df1['age'][df['deposit']=='yes']\n",
    "avg_age.mean()"
   ]
  },
  {
   "cell_type": "code",
   "execution_count": 18,
   "id": "64448429",
   "metadata": {},
   "outputs": [],
   "source": [
    "import matplotlib.pyplot as plt\n",
    "import seaborn as sns"
   ]
  },
  {
   "cell_type": "code",
   "execution_count": 19,
   "id": "26fe864a",
   "metadata": {},
   "outputs": [
    {
     "data": {
      "text/plain": [
       "array(['services', 'technician', 'management', 'unemployed', 'retired',\n",
       "       'blue-collar', 'housemaid', 'admin.', 'entrepreneur', 'student',\n",
       "       'self-employed', 'unknown'], dtype=object)"
      ]
     },
     "execution_count": 19,
     "metadata": {},
     "output_type": "execute_result"
    }
   ],
   "source": [
    "#  Create a bar chart using Matplotlib that displays the distribution of different job roles in the bank marketing dataset.\n",
    "df1['job'].unique()"
   ]
  },
  {
   "cell_type": "code",
   "execution_count": 28,
   "id": "d9ff6c05",
   "metadata": {},
   "outputs": [
    {
     "data": {
      "image/png": "[encoded data removed]",
      "text/plain": [
       "<Figure size 1000x600 with 1 Axes>"
      ]
     },
     "metadata": {},
     "output_type": "display_data"
    }
   ],
   "source": [
    "import matplotlib.pyplot as plt\n",
    "import pandas as pd\n",
    "\n",
    "job_counts = df1['job'].value_counts()\n",
    "\n",
    "# Plotting the bar chart\n",
    "plt.figure(figsize=(10, 6))\n",
    "plt.bar(job_counts.index, job_counts, color='skyblue')\n",
    "plt.xlabel('Job Roles')\n",
    "plt.ylabel('Count')\n",
    "plt.title('Distribution of Job Roles in Bank Marketing Dataset')\n",
    "plt.xticks(rotation=45, ha='right')  \n",
    "plt.tight_layout()  \n",
    "plt.show()"
   ]
  },
  {
   "cell_type": "code",
   "execution_count": 38,
   "id": "f8fe06df",
   "metadata": {},
   "outputs": [
    {
     "data": {
      "image/png": "[encoded data removed]",
      "text/plain": [
       "<Figure size 600x600 with 1 Axes>"
      ]
     },
     "metadata": {},
     "output_type": "display_data"
    }
   ],
   "source": [
    "#  Plot a histogram using Matplotlib to show the age distribution of the individuals in the dataset.\n",
    "plt.figure(figsize=(6,6))\n",
    "plt.hist(df1['age'],bins=10,color='magenta',edgecolor='black')\n",
    "plt.xlabel(\"Age\")\n",
    "plt.ylabel(\"Frequency\")\n",
    "plt.title(\"Age distribution\")\n",
    "plt.show()"
   ]
  },
  {
   "cell_type": "code",
   "execution_count": 44,
   "id": "d67de52f",
   "metadata": {},
   "outputs": [
    {
     "data": {
      "image/png": "[encoded data removed]",
      "text/plain": [
       "<Figure size 800x600 with 1 Axes>"
      ]
     },
     "metadata": {},
     "output_type": "display_data"
    }
   ],
   "source": [
    "# Create a scatter plot using Matplotlib to examine the relationship between account balance and the last contact duration.\n",
    "import matplotlib.pyplot as plt\n",
    "import pandas as pd\n",
    "\n",
    "plt.figure(figsize=(8, 6))\n",
    "plt.scatter(df1['balance'], df1['duration'], color='yellow', alpha=0.5)\n",
    "plt.xlabel('Account Balance')\n",
    "plt.ylabel('Last Contact Duration')\n",
    "plt.title('Relationship Between Account Balance and Last Contact Duration')\n",
    "plt.show()"
   ]
  },
  {
   "cell_type": "code",
   "execution_count": 63,
   "id": "c7411488",
   "metadata": {},
   "outputs": [],
   "source": [
    "class Bank:\n",
    "    def __init__(self, acc_no, initial_balance=0, interest=0.02):\n",
    "        self.acc_no = acc_no\n",
    "        self.balance = initial_balance\n",
    "        self.interest_rate = interest\n",
    "\n",
    "    def deposit(self, amount):\n",
    "        if amount > 0:\n",
    "            self.balance += amount\n",
    "            print(f\"Amount {amount} deposited successfully\")\n",
    "            print(f\"Current balance: {self.balance}\")\n",
    "        else:\n",
    "            print(\"Invalid amount\")\n",
    "\n",
    "    def withdraw(self, amount):\n",
    "        if amount > self.balance:\n",
    "            print(\"Can't withdraw this much amount\")\n",
    "        else:\n",
    "            self.balance -= amount\n",
    "            print(f\"Amount {amount} withdrew successfully\")\n",
    "            print(f\"Current balance: {self.balance}\")\n",
    "\n",
    "    def calculate_interest(self):\n",
    "        interest_earned = self.balance * self.interest_rate\n",
    "        self.balance += interest_earned\n",
    "        print(f\"Interest of {interest_earned} earned\")\n",
    "        print(f\"Current balance: {self.balance}\")\n",
    "\n",
    "    def show_balance(self):\n",
    "        print(f\"Account holder: {self.acc_no}\")\n",
    "        print(f\"Current balance: ${self.balance}\")\n"
   ]
  },
  {
   "cell_type": "code",
   "execution_count": 64,
   "id": "b86d32eb",
   "metadata": {},
   "outputs": [],
   "source": [
    "acc1 = Bank(acc_no=12345,initial_balance=1000)"
   ]
  },
  {
   "cell_type": "code",
   "execution_count": 65,
   "id": "49b10cf9",
   "metadata": {},
   "outputs": [
    {
     "name": "stdout",
     "output_type": "stream",
     "text": [
      "Amount 500 deposited successfully\n",
      "Current balance: 1500\n"
     ]
    }
   ],
   "source": [
    "acc1.deposit(500)"
   ]
  },
  {
   "cell_type": "code",
   "execution_count": 66,
   "id": "0deccb24",
   "metadata": {},
   "outputs": [
    {
     "name": "stdout",
     "output_type": "stream",
     "text": [
      "Amount 400 withdrew successfully\n",
      "Current balance: 1100\n"
     ]
    }
   ],
   "source": [
    "acc1.withdraw(400)"
   ]
  },
  {
   "cell_type": "code",
   "execution_count": 67,
   "id": "b4b3ec9a",
   "metadata": {},
   "outputs": [
    {
     "name": "stdout",
     "output_type": "stream",
     "text": [
      "Interest of 22.0 earned\n",
      "Current balance: 1122.0\n"
     ]
    }
   ],
   "source": [
    "acc1.calculate_interest()"
   ]
  },
  {
   "cell_type": "code",
   "execution_count": 68,
   "id": "b64eef16",
   "metadata": {},
   "outputs": [
    {
     "name": "stdout",
     "output_type": "stream",
     "text": [
      "Account holder: 12345\n",
      "Current balance: $1122.0\n"
     ]
    }
   ],
   "source": [
    "acc1.show_balance()"
   ]
  },
  {
   "cell_type": "code",
   "execution_count": 69,
   "id": "a31dce4b",
   "metadata": {},
   "outputs": [],
   "source": [
    "acc2=Bank(acc_no=400606,initial_balance=1000000)"
   ]
  },
  {
   "cell_type": "code",
   "execution_count": 70,
   "id": "217a1f7a",
   "metadata": {},
   "outputs": [
    {
     "name": "stdout",
     "output_type": "stream",
     "text": [
      "Amount 5 deposited successfully\n",
      "Current balance: 1000005\n"
     ]
    }
   ],
   "source": [
    "acc2.deposit(5)"
   ]
  },
  {
   "cell_type": "code",
   "execution_count": 71,
   "id": "5f001ed0",
   "metadata": {},
   "outputs": [
    {
     "name": "stdout",
     "output_type": "stream",
     "text": [
      "Amount 100000 withdrew successfully\n",
      "Current balance: 900005\n"
     ]
    }
   ],
   "source": [
    "acc2.withdraw(100000)"
   ]
  },
  {
   "cell_type": "code",
   "execution_count": null,
   "id": "258ae696",
   "metadata": {},
   "outputs": [],
   "source": []
  }
 ],
 "metadata": {
  "kernelspec": {
   "display_name": "Python 3 (ipykernel)",
   "language": "python",
   "name": "python3"
  },
  "language_info": {
   "codemirror_mode": {
    "name": "ipython",
    "version": 3
   },
   "file_extension": ".py",
   "mimetype": "text/x-python",
   "name": "python",
   "nbconvert_exporter": "python",
   "pygments_lexer": "ipython3",
   "version": "3.10.9"
  }
 },
 "nbformat": 4,
 "nbformat_minor": 5
}
