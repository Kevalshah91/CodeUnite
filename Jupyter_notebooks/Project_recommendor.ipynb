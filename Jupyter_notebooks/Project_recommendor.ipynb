{
  "cells": [
    {
      "cell_type": "code",
      "execution_count": 59,
      "metadata": {
        "colab": {
          "base_uri": "https://localhost:8080/"
        },
        "id": "FfFPWJRc5AuY",
        "outputId": "5b2384d2-5697-41d9-b61e-260f390ab13c"
      },
      "outputs": [
        {
          "output_type": "stream",
          "name": "stdout",
          "text": [
            "Project recommendor\n"
          ]
        }
      ],
      "source": [
        "print(\"Project recommendor\")"
      ]
    },
    {
      "cell_type": "code",
      "execution_count": 60,
      "metadata": {
        "colab": {
          "base_uri": "https://localhost:8080/"
        },
        "id": "JYdybt3W5tTQ",
        "outputId": "73c18b6b-b60b-4785-d1fb-60384494d5cc"
      },
      "outputs": [
        {
          "output_type": "stream",
          "name": "stdout",
          "text": [
            "Requirement already satisfied: PyPDF2 in /usr/local/lib/python3.10/dist-packages (3.0.1)\n"
          ]
        }
      ],
      "source": [
        "pip install PyPDF2"
      ]
    },
    {
      "cell_type": "code",
      "execution_count": 61,
      "metadata": {
        "colab": {
          "base_uri": "https://localhost:8080/"
        },
        "id": "MrKRGnrAC-Sr",
        "outputId": "cdb49312-9103-47f7-dd41-09d4ed83afc7"
      },
      "outputs": [
        {
          "output_type": "stream",
          "name": "stdout",
          "text": [
            "EDUCATION\n",
            "B.Tech CSE (Data Science)\n",
            "DJ Sanghvi College of Engineering2022 – present\n",
            "(CGPA: 8.86/10)\n",
            "PROJECTS\n",
            "Geospatial Data Analysis\n",
            "For Traffic flow , Urban Mobility Patters ,Tourism, Surveillance, etcpresent\n",
            "Geospatial analysis to aid analyzing traffic flow, urban mobility patterns, and tourism data for informed decision-\n",
            "making.\n",
            "Classiq+, an innovative EduTech solution Oct 2023 – Dec 2023\n",
            "Engineered a fully functional white-board with Full-Stack Web development which features YouTube Streaming \n",
            "facility, Graph plotting feature and OpenCV to capture real-time text capturing from offline board to userʼs screen.\n",
            "Image Classifier using NN Jan 2024\n",
            "Developed a neural network-based image classifier to distinguish between images containing specific features and \n",
            "those without.\n",
            "Titanic Survial Prediction using ML Sep 2023\n",
            "Used ML concepts to accurately predict the survival of passengers in Titanic using Titanic dataset and ML models.\n",
            "Spotify - Songs data analysis Aug 2023\n",
            "Utilized Spotify dataset with diverse attributes to analyze the song trends of a user using Machine Learning Models to \n",
            "enhance the recommendation system of Spotify.\n",
            "PROFESSIONAL EXPERIENCE\n",
            "DJS Compute - Machine Learning Mentee Sep 2023 – present\n",
            "•Created Collaborated with senior mentors to gain insights into cutting-edge ML technologies and methodologies.\n",
            "•Engaged in hands-on projects, applying theoretical knowledge to real-world scenarios and developing practical \n",
            "skills.\n",
            "S4DS - Marketing Team Sep 2023 – present\n",
            "•Assisted in the development and implementation of marketing campaigns, resulting in a 15% increase in brand \n",
            "visibility.\n",
            "•Cultivate positive public relations by establishing and maintaining relationships with key stakeholders, including \n",
            "students and external partners.\n",
            "DJS Racing - Driverless Automation Team Jul 2022 – present\n",
            "•Orchestrating the application of Machine Learning, Deep Learning, Neural Networks, and Computer Vision in \n",
            "implementing driverless automation for racing cars.\n",
            "•Collaborating with cross-functional teams to optimize algorithms and enhance the efficiency of driverless systems\n",
            "SKILLS\n",
            "Languages :\n",
            "Python, C, C++, SQL, JAVA\n",
            "Machine Learning\n",
            "Scikit-Learn, Pandas, Numpy, Tensorflow, Keras, \n",
            "OpenCV, MediapipeData Analysis Tools\n",
            "Tableau, Plotly, matplotlib\n",
            "Web Development\n",
            "Java Script, React JS, Basics of Node JS, Express JS and \n",
            "Mongo DB\n",
            "AWARDS\n",
            "1st place at Techno Grad NSDC Hackathon 2023\n",
            "Placed 1st from over 200 participants in the hackathon.Keval Shah\n",
            "+91 8286556644\n",
            "linkedin.com/in/keval-shah-b30274262\n",
            "Mumbaikevalshah091@gmail.com\n",
            "https://github.com/Kevalshah91\n",
            "Top 40 at Geek Vishwa Hackathon (Pune) 2023\n",
            "Placed among the top 40 from over 300+ teams pan India.\n"
          ]
        }
      ],
      "source": [
        "import PyPDF2\n",
        "\n",
        "def extract_text_from_pdf(pdf_file: str) -> str:\n",
        "    try:\n",
        "        with open(pdf_file, 'rb') as pdf:\n",
        "            reader = PyPDF2.PdfReader(pdf, strict=False)\n",
        "            pdf_text = []\n",
        "            for page in reader.pages:\n",
        "                content = page.extract_text()\n",
        "                pdf_text.append(content)\n",
        "        return '\\n'.join(pdf_text)\n",
        "    except Exception as e:\n",
        "        print(f\"Error: {e}\")\n",
        "        return ''\n",
        "\n",
        "if __name__ == '__main__':\n",
        "    pdf_file_path = 'Keval_Shah_Resume.pdf'\n",
        "    extracted_text = extract_text_from_pdf(pdf_file_path)\n",
        "\n",
        "    if extracted_text:\n",
        "        print(extracted_text)\n",
        "    else:\n",
        "        print(f\"Failed to extract text from {pdf_file_path}.\")\n"
      ]
    },
    {
      "cell_type": "code",
      "execution_count": 62,
      "metadata": {
        "colab": {
          "base_uri": "https://localhost:8080/"
        },
        "id": "vf78NxiFD7sG",
        "outputId": "4f84940c-7655-41d0-876c-6de1bf9746ed"
      },
      "outputs": [
        {
          "output_type": "stream",
          "name": "stdout",
          "text": [
            "Requirement already satisfied: pandas in /usr/local/lib/python3.10/dist-packages (1.5.3)\n",
            "Requirement already satisfied: python-dateutil>=2.8.1 in /usr/local/lib/python3.10/dist-packages (from pandas) (2.8.2)\n",
            "Requirement already satisfied: pytz>=2020.1 in /usr/local/lib/python3.10/dist-packages (from pandas) (2023.4)\n",
            "Requirement already satisfied: numpy>=1.21.0 in /usr/local/lib/python3.10/dist-packages (from pandas) (1.23.5)\n",
            "Requirement already satisfied: six>=1.5 in /usr/local/lib/python3.10/dist-packages (from python-dateutil>=2.8.1->pandas) (1.16.0)\n",
            "Requirement already satisfied: nltk in /usr/local/lib/python3.10/dist-packages (3.8.1)\n",
            "Requirement already satisfied: click in /usr/local/lib/python3.10/dist-packages (from nltk) (8.1.7)\n",
            "Requirement already satisfied: joblib in /usr/local/lib/python3.10/dist-packages (from nltk) (1.3.2)\n",
            "Requirement already satisfied: regex>=2021.8.3 in /usr/local/lib/python3.10/dist-packages (from nltk) (2023.12.25)\n",
            "Requirement already satisfied: tqdm in /usr/local/lib/python3.10/dist-packages (from nltk) (4.66.1)\n",
            "Requirement already satisfied: scikit-learn in /usr/local/lib/python3.10/dist-packages (1.2.2)\n",
            "Requirement already satisfied: numpy>=1.17.3 in /usr/local/lib/python3.10/dist-packages (from scikit-learn) (1.23.5)\n",
            "Requirement already satisfied: scipy>=1.3.2 in /usr/local/lib/python3.10/dist-packages (from scikit-learn) (1.11.4)\n",
            "Requirement already satisfied: joblib>=1.1.1 in /usr/local/lib/python3.10/dist-packages (from scikit-learn) (1.3.2)\n",
            "Requirement already satisfied: threadpoolctl>=2.0.0 in /usr/local/lib/python3.10/dist-packages (from scikit-learn) (3.2.0)\n"
          ]
        }
      ],
      "source": [
        "!pip install pandas\n",
        "!pip install nltk\n",
        "!pip install scikit-learn"
      ]
    },
    {
      "cell_type": "code",
      "execution_count": 63,
      "metadata": {
        "colab": {
          "base_uri": "https://localhost:8080/"
        },
        "id": "9yEJfdz7IxF2",
        "outputId": "2e40e946-c4e2-4389-ae1a-95ddef6ee721"
      },
      "outputs": [
        {
          "output_type": "stream",
          "name": "stdout",
          "text": [
            "Project: develop content management system cms php\n",
            "Skills Required:  PHP,Web Development \n",
            "Domain:  Web Development\n",
            "\n",
            "Project: design onboarding experience\n",
            "Skills Required:  UI/UX Design,Onboarding,User Experience \n",
            "Domain:  UI/UX Design\n",
            "\n",
            "Project: design onboarding experience\n",
            "Skills Required:  UI/UX Design,Onboarding,User Experience \n",
            "Domain:  UI/UX Design\n",
            "\n"
          ]
        },
        {
          "output_type": "stream",
          "name": "stderr",
          "text": [
            "[nltk_data] Downloading package punkt to /root/nltk_data...\n",
            "[nltk_data]   Package punkt is already up-to-date!\n",
            "[nltk_data] Downloading package stopwords to /root/nltk_data...\n",
            "[nltk_data]   Package stopwords is already up-to-date!\n"
          ]
        }
      ],
      "source": [
        "import pandas as pd\n",
        "import nltk\n",
        "from nltk.corpus import stopwords\n",
        "from nltk.tokenize import word_tokenize\n",
        "from sklearn.feature_extraction.text import TfidfVectorizer\n",
        "from sklearn.metrics.pairwise import cosine_similarity\n",
        "import re\n",
        "\n",
        "nltk.download('punkt')\n",
        "nltk.download('stopwords')\n",
        "\n",
        "# Read JSON data from file\n",
        "df = pd.read_json('PY_data.json')\n",
        "\n",
        "stop_words = set(stopwords.words('english'))\n",
        "\n",
        "def preprocess_text(text):\n",
        "    if isinstance(text, str):\n",
        "        words = word_tokenize(text)\n",
        "        clean_words = [word.lower() for word in words if word.isalpha() and word.lower() not in stop_words]\n",
        "        return ' '.join(clean_words)\n",
        "    else:\n",
        "        return ''\n",
        "\n",
        "# Extracting 'Experience' from 'Projects'\n",
        "df['Experience'] = df['Projects'].apply(lambda x: preprocess_text(x.get('Experience', '')))\n",
        "\n",
        "vectorizer = TfidfVectorizer()\n",
        "tfidf_matrix = vectorizer.fit_transform(df['Experience'] + ' ' + df['Skills'] + ' ' + df['Domain'])\n",
        "\n",
        "# Assuming 'client_resume' is a string containing the client's resume text\n",
        "client_resume = \"Interests SkillsQualifications EducationContact Work experience... [your resume content]\"\n",
        "client_resume = preprocess_text(client_resume)\n",
        "\n",
        "client_resume_vector = vectorizer.transform([client_resume])\n",
        "\n",
        "cosine_similarities = cosine_similarity(client_resume_vector, tfidf_matrix)\n",
        "\n",
        "top_n_projects_indices = cosine_similarities.argsort()[0][::-1][:3]\n",
        "\n",
        "recommended_projects = df.loc[top_n_projects_indices, ['Experience', 'Skills', 'Domain']]\n",
        "\n",
        "pd.set_option('display.max_colwidth', None)\n",
        "\n",
        "for index, row in recommended_projects.iterrows():\n",
        "    print(f\"Project: {row['Experience']}\\nSkills Required: {row['Skills']}\\nDomain: {row['Domain']}\\n\")\n"
      ]
    },
    {
      "cell_type": "code",
      "execution_count": 64,
      "metadata": {
        "colab": {
          "base_uri": "https://localhost:8080/",
          "height": 278
        },
        "id": "wRilyKcwK0__",
        "outputId": "d7e1a538-ed39-43ea-dc30-12dcafd80cbe"
      },
      "outputs": [
        {
          "output_type": "execute_result",
          "data": {
            "text/plain": [
              "'EDUCATION\\nB.Tech CSE (Data Science)\\nDJ Sanghvi College of Engineering2022 – present\\n(CGPA: 8.86/10)\\nPROJECTS\\nGeospatial Data Analysis\\nFor Traffic flow , Urban Mobility Patters ,Tourism, Surveillance, etcpresent\\nGeospatial analysis to aid analyzing traffic flow, urban mobility patterns, and tourism data for informed decision-\\nmaking.\\nClassiq+, an innovative EduTech solution Oct 2023 – Dec 2023\\nEngineered a fully functional white-board with Full-Stack Web development which features YouTube Streaming \\nfacility, Graph plotting feature and OpenCV to capture real-time text capturing from offline board to userʼs screen.\\nImage Classifier using NN Jan 2024\\nDeveloped a neural network-based image classifier to distinguish between images containing specific features and \\nthose without.\\nTitanic Survial Prediction using ML Sep 2023\\nUsed ML concepts to accurately predict the survival of passengers in Titanic using Titanic dataset and ML models.\\nSpotify - Songs data analysis Aug 2023\\nUtilized Spotify dataset with diverse attributes to analyze the song trends of a user using Machine Learning Models to \\nenhance the recommendation system of Spotify.\\nPROFESSIONAL EXPERIENCE\\nDJS Compute - Machine Learning Mentee Sep 2023 – present\\n•Created Collaborated with senior mentors to gain insights into cutting-edge ML technologies and methodologies.\\n•Engaged in hands-on projects, applying theoretical knowledge to real-world scenarios and developing practical \\nskills.\\nS4DS - Marketing Team Sep 2023 – present\\n•Assisted in the development and implementation of marketing campaigns, resulting in a 15% increase in brand \\nvisibility.\\n•Cultivate positive public relations by establishing and maintaining relationships with key stakeholders, including \\nstudents and external partners.\\nDJS Racing - Driverless Automation Team Jul 2022 – present\\n•Orchestrating the application of Machine Learning, Deep Learning, Neural Networks, and Computer Vision in \\nimplementing driverless automation for racing cars.\\n•Collaborating with cross-functional teams to optimize algorithms and enhance the efficiency of driverless systems\\nSKILLS\\nLanguages :\\nPython, C, C++, SQL, JAVA\\nMachine Learning\\nScikit-Learn, Pandas, Numpy, Tensorflow, Keras, \\nOpenCV, MediapipeData Analysis Tools\\nTableau, Plotly, matplotlib\\nWeb Development\\nJava Script, React JS, Basics of Node JS, Express JS and \\nMongo DB\\nAWARDS\\n1st place at Techno Grad NSDC Hackathon 2023\\nPlaced 1st from over 200 participants in the hackathon.Keval Shah\\n+91 8286556644\\nlinkedin.com/in/keval-shah-b30274262\\nMumbaikevalshah091@gmail.com\\nhttps://github.com/Kevalshah91\\nTop 40 at Geek Vishwa Hackathon (Pune) 2023\\nPlaced among the top 40 from over 300+ teams pan India.'"
            ],
            "application/vnd.google.colaboratory.intrinsic+json": {
              "type": "string"
            }
          },
          "metadata": {},
          "execution_count": 64
        }
      ],
      "source": [
        "extracted_text"
      ]
    },
    {
      "cell_type": "code",
      "execution_count": 65,
      "metadata": {
        "colab": {
          "base_uri": "https://localhost:8080/"
        },
        "id": "SLWUI1scRHgm",
        "outputId": "3e1d216a-1df2-491e-e7cb-1959bf28898c"
      },
      "outputs": [
        {
          "output_type": "stream",
          "name": "stderr",
          "text": [
            "[nltk_data] Downloading package punkt to /root/nltk_data...\n",
            "[nltk_data]   Package punkt is already up-to-date!\n",
            "[nltk_data] Downloading package stopwords to /root/nltk_data...\n",
            "[nltk_data]   Package stopwords is already up-to-date!\n"
          ]
        },
        {
          "output_type": "stream",
          "name": "stdout",
          "text": [
            "Enter your resume: EDUCATION\\nB.Tech CSE (Data Science)\\nDJ Sanghvi College of Engineering2022 – present\\n(CGPA: 8.86/10)\\nPROJECTS\\nGeospatial Data Analysis\\nFor Traffic flow , Urban Mobility Patters ,Tourism, Surveillance, etcpresent\\nGeospatial analysis to aid analyzing traffic flow, urban mobility patterns, and tourism data for informed decision-\\nmaking.\\nClassiq+, an innovative EduTech solution Oct 2023 – Dec 2023\\nEngineered a fully functional white-board with Full-Stack Web development which features YouTube Streaming \\nfacility, Graph plotting feature and OpenCV to capture real-time text capturing from offline board to userʼs screen.\\nImage Classifier using NN Jan 2024\\nDeveloped a neural network-based image classifier to distinguish between images containing specific features and \\nthose without.\\nTitanic Survial Prediction using ML Sep 2023\\nUsed ML concepts to accurately predict the survival of passengers in Titanic using Titanic dataset and ML models.\\nSpotify - Songs data analysis Aug 2023\\nUtilized Spotify dataset with diverse attributes to analyze the song trends of a user using Machine Learning Models to \\nenhance the recommendation system of Spotify.\\nPROFESSIONAL EXPERIENCE\\nDJS Compute - Machine Learning Mentee Sep 2023 – present\\n•Created Collaborated with senior mentors to gain insights into cutting-edge ML technologies and methodologies.\\n•Engaged in hands-on projects, applying theoretical knowledge to real-world scenarios and developing practical \\nskills.\\nS4DS - Marketing Team Sep 2023 – present\\n•Assisted in the development and implementation of marketing campaigns, resulting in a 15% increase in brand \\nvisibility.\\n•Cultivate positive public relations by establishing and maintaining relationships with key stakeholders, including \\nstudents and external partners.\\nDJS Racing - Driverless Automation Team Jul 2022 – present\\n•Orchestrating the application of Machine Learning, Deep Learning, Neural Networks, and Computer Vision in \\nimplementing driverless automation for racing cars.\\n•Collaborating with cross-functional teams to optimize algorithms and enhance the efficiency of driverless systems\\nSKILLS\\nLanguages :\\nPython, C, C++, SQL, JAVA\\nMachine Learning\\nScikit-Learn, Pandas, Numpy, Tensorflow, Keras, \\nOpenCV, MediapipeData Analysis Tools\\nTableau, Plotly, matplotlib\\nWeb Development\\nJava Script, React JS, Basics of Node JS, Express JS and \\nMongo DB\\nAWARDS\\n1st place at Techno Grad NSDC Hackathon 2023\\nPlaced 1st from over 200 participants in the hackathon.Keval Shah\\n+91 8286556644\\nlinkedin.com/in/keval-shah-b30274262\\nMumbaikevalshah091@gmail.com\\nhttps://github.com/Kevalshah91\\nTop 40 at Geek Vishwa Hackathon (Pune) 2023\\nPlaced among the top 40 from over 300+ teams pan India.\n",
            "Domain: machine learning\n",
            "\n",
            "Domain: data science\n",
            "\n",
            "Domain: machine learning\n",
            "\n",
            "Domain: machine learning\n",
            "\n",
            "Domain: machine learning\n",
            "\n"
          ]
        }
      ],
      "source": [
        "import pandas as pd\n",
        "import nltk\n",
        "from nltk.corpus import stopwords\n",
        "from nltk.tokenize import word_tokenize\n",
        "from sklearn.feature_extraction.text import TfidfVectorizer\n",
        "from sklearn.metrics.pairwise import cosine_similarity\n",
        "\n",
        "nltk.download('punkt')\n",
        "nltk.download('stopwords')\n",
        "\n",
        "# Read JSON data from file\n",
        "df = pd.read_json('PY_data.json')\n",
        "\n",
        "stop_words = set(stopwords.words('english'))\n",
        "\n",
        "def preprocess_text(text):\n",
        "    if isinstance(text, str):\n",
        "        words = word_tokenize(text)\n",
        "        clean_words = [word.lower() for word in words if word.isalpha() and word.lower() not in stop_words]\n",
        "        return ' '.join(clean_words)\n",
        "    else:\n",
        "        return ''\n",
        "\n",
        "# Handling missing values\n",
        "df['Experience'] = df['Projects'].apply(lambda x: preprocess_text(x.get('Experience', '')))\n",
        "df['Skills'] = df['Skills'].apply(preprocess_text)\n",
        "df['Domain'] = df['Domain'].apply(preprocess_text)\n",
        "\n",
        "# Concatenating text features\n",
        "df['Combined_Text'] = df['Experience'] + ' ' + df['Skills'] + ' ' + df['Domain']\n",
        "\n",
        "# Vectorization with additional parameters\n",
        "vectorizer = TfidfVectorizer(max_features=5000, ngram_range=(1, 2))\n",
        "tfidf_matrix = vectorizer.fit_transform(df['Combined_Text'])\n",
        "\n",
        "# User inputs their resume\n",
        "client_resume = input(\"Enter your resume: \")\n",
        "client_resume = preprocess_text(client_resume)\n",
        "\n",
        "client_resume_vector = vectorizer.transform([client_resume])\n",
        "\n",
        "cosine_similarities = cosine_similarity(client_resume_vector, tfidf_matrix)\n",
        "\n",
        "top_n_projects_indices = cosine_similarities.argsort()[0][::-1][:5]\n",
        "\n",
        "if cosine_similarities[0, top_n_projects_indices[0]] == 0:\n",
        "    print(\"No matching projects found.\")\n",
        "else:\n",
        "    # Filter out duplicate projects\n",
        "    unique_top_projects_indices = list(set(top_n_projects_indices))\n",
        "\n",
        "    # Ensure we have at least 5 distinct projects\n",
        "    while len(unique_top_projects_indices) < 5:\n",
        "        additional_projects = cosine_similarities.argsort()[0][::-1][len(unique_top_projects_indices):len(unique_top_projects_indices)+5]\n",
        "        unique_top_projects_indices.extend(set(additional_projects))\n",
        "\n",
        "    recommended_projects = df.loc[unique_top_projects_indices[:5], ['Experience', 'Skills', 'Domain']]\n",
        "\n",
        "    pd.set_option('display.max_colwidth', None)\n",
        "\n",
        "    for index, row in recommended_projects.iterrows():\n",
        "        # print(f\"Project: {row['Experience']}\\nSkills Required: {row['Skills']}\\nDomain: {row['Domain']}\\n\")\n",
        "        print(f\"Domain: {row['Domain']}\\n\")\n"
      ]
    },
    {
      "cell_type": "code",
      "execution_count": 66,
      "metadata": {
        "colab": {
          "base_uri": "https://localhost:8080/"
        },
        "id": "eds4GFlBYuV8",
        "outputId": "dcd5d5cd-a35b-4ba8-81a9-540627f54ebc"
      },
      "outputs": [
        {
          "output_type": "stream",
          "name": "stdout",
          "text": [
            "Unique Domains in Recommended Projects:\n",
            "machine learning\n"
          ]
        },
        {
          "output_type": "stream",
          "name": "stderr",
          "text": [
            "[nltk_data] Downloading package punkt to /root/nltk_data...\n",
            "[nltk_data]   Package punkt is already up-to-date!\n",
            "[nltk_data] Downloading package stopwords to /root/nltk_data...\n",
            "[nltk_data]   Package stopwords is already up-to-date!\n"
          ]
        }
      ],
      "source": [
        "import pandas as pd\n",
        "import nltk\n",
        "from nltk.corpus import stopwords\n",
        "from nltk.tokenize import word_tokenize\n",
        "from sklearn.feature_extraction.text import TfidfVectorizer\n",
        "from sklearn.metrics.pairwise import cosine_similarity\n",
        "\n",
        "nltk.download('punkt')\n",
        "nltk.download('stopwords')\n",
        "\n",
        "# Read JSON data from file\n",
        "df = pd.read_json('PY_data.json')\n",
        "\n",
        "stop_words = set(stopwords.words('english'))\n",
        "\n",
        "def preprocess_text(text):\n",
        "    if isinstance(text, str):\n",
        "        words = word_tokenize(text)\n",
        "        clean_words = [word.lower() for word in words if word.isalpha() and word.lower() not in stop_words]\n",
        "        return ' '.join(clean_words)\n",
        "    else:\n",
        "        return ''\n",
        "\n",
        "# Handling missing values\n",
        "df['Experience'] = df['Projects'].apply(lambda x: preprocess_text(x.get('Experience', '')))\n",
        "df['Skills'] = df['Skills'].apply(preprocess_text)\n",
        "df['Domain'] = df['Domain'].apply(preprocess_text)\n",
        "\n",
        "# Concatenating text features\n",
        "df['Combined_Text'] = df['Experience'] + ' ' + df['Skills'] + ' ' + df['Domain']\n",
        "\n",
        "# Vectorization with additional parameters\n",
        "vectorizer = TfidfVectorizer(max_features=5000, ngram_range=(1, 2))\n",
        "tfidf_matrix = vectorizer.fit_transform(df['Combined_Text'])\n",
        "\n",
        "# User inputs their resume\n",
        "client_resume = extracted_text\n",
        "client_resume = preprocess_text(client_resume)\n",
        "\n",
        "client_resume_vector = vectorizer.transform([client_resume])\n",
        "\n",
        "cosine_similarities = cosine_similarity(client_resume_vector, tfidf_matrix)\n",
        "\n",
        "top_n_projects_indices = cosine_similarities.argsort()[0][::-1][:5]\n",
        "\n",
        "if cosine_similarities[0, top_n_projects_indices[0]] == 0:\n",
        "    print(\"No matching projects found.\")\n",
        "else:\n",
        "    # Filter out duplicate projects\n",
        "    unique_top_projects_indices = list(set(top_n_projects_indices))\n",
        "\n",
        "    # Ensure we have at least 5 distinct projects\n",
        "    while len(unique_top_projects_indices) < 5:\n",
        "        additional_projects = cosine_similarities.argsort()[0][::-1][len(unique_top_projects_indices):len(unique_top_projects_indices)+5]\n",
        "        unique_top_projects_indices.extend(set(additional_projects))\n",
        "\n",
        "    recommended_projects = df.loc[unique_top_projects_indices[:5], ['Experience', 'Skills', 'Domain']]\n",
        "\n",
        "    unique_domains = set(recommended_projects['Domain'])\n",
        "\n",
        "    print(\"Unique Domains in Recommended Projects:\")\n",
        "    for domain in unique_domains:\n",
        "        print(domain)\n"
      ]
    },
    {
      "cell_type": "code",
      "execution_count": 66,
      "metadata": {
        "id": "mDqnNuvhizk9"
      },
      "outputs": [],
      "source": []
    },
    {
      "cell_type": "code",
      "execution_count": 66,
      "metadata": {
        "id": "-xLkJaiwizhR"
      },
      "outputs": [],
      "source": []
    },
    {
      "cell_type": "code",
      "execution_count": 67,
      "metadata": {
        "colab": {
          "base_uri": "https://localhost:8080/"
        },
        "id": "Gu5pK5hGizeh",
        "outputId": "9f8f4797-d3b1-4017-9167-08a884e25de1"
      },
      "outputs": [
        {
          "output_type": "stream",
          "name": "stdout",
          "text": [
            "Tech stack data has been written to tech_stack.json\n"
          ]
        }
      ],
      "source": [
        "import json\n",
        "\n",
        "tech_stack_data = {\n",
        "    \"Domains\": [\n",
        "        {\n",
        "            \"name\": \"Machine Learning\",\n",
        "            \"techStack\": [\"Python\", \"TensorFlow\", \"Scikit-Learn\", \"PyTorch\", \"Numpy\", \"Pandas\"]\n",
        "        },\n",
        "        {\n",
        "            \"name\": \"Web Development\",\n",
        "            \"techStack\": [\"HTML\", \"CSS\", \"JavaScript\", \"React JS\", \"Node.js\", \"Express.js\", \"MongoDB\"]\n",
        "        },\n",
        "        {\n",
        "            \"name\": \"Data Science\",\n",
        "            \"techStack\": [\"Python\", \"R\", \"Jupyter Notebooks\", \"Pandas\", \"Matplotlib\", \"Seaborn\"]\n",
        "        },\n",
        "        {\n",
        "            \"name\": \"Mobile App Development\",\n",
        "            \"techStack\": [\"React Native\", \"Swift\", \"Kotlin\", \"Java\", \"Xcode\", \"Android Studio\"]\n",
        "        },\n",
        "        {\n",
        "            \"name\": \"Database Management\",\n",
        "            \"techStack\": [\"SQL\", \"MySQL\", \"PostgreSQL\", \"MongoDB\", \"Firebase\"]\n",
        "        },\n",
        "        {\n",
        "            \"name\": \"Frontend Development\",\n",
        "            \"techStack\": [\"HTML\", \"CSS\", \"JavaScript\", \"Vue.js\", \"Angular\", \"Sass\"]\n",
        "        },\n",
        "        {\n",
        "            \"name\": \"Backend Development\",\n",
        "            \"techStack\": [\"Node.js\", \"Express.js\", \"Django\", \"Ruby on Rails\", \"Flask\"]\n",
        "        },\n",
        "        {\n",
        "            \"name\": \"Cloud Computing\",\n",
        "            \"techStack\": [\"AWS\", \"Azure\", \"Google Cloud\", \"Docker\", \"Kubernetes\"]\n",
        "        },\n",
        "        {\n",
        "            \"name\": \"DevOps\",\n",
        "            \"techStack\": [\"Jenkins\", \"Docker\", \"Ansible\", \"Git\", \"CI/CD\"]\n",
        "        },\n",
        "        {\n",
        "            \"name\": \"UI/UX Design\",\n",
        "            \"techStack\": [\"Figma\", \"Sketch\", \"Adobe XD\", \"InVision\"]\n",
        "        },\n",
        "        {\n",
        "            \"name\": \"Virtual Reality\",\n",
        "            \"techStack\": [\"Unity\", \"Unreal Engine\", \"VR Development Kit\"]\n",
        "        },\n",
        "        {\n",
        "            \"name\": \"Desktop App Development\",\n",
        "            \"techStack\": [\"Java\", \"C#\", \"Electron\"]\n",
        "        },\n",
        "        {\n",
        "            \"name\": \"Market Research\",\n",
        "            \"techStack\": [\"Survey Tools\", \"Data Analysis\"]\n",
        "        },\n",
        "        {\n",
        "            \"name\": \"Digital Marketing\",\n",
        "            \"techStack\": [\"SEO\", \"SEM\", \"Social Media Analytics\"]\n",
        "        },\n",
        "        {\n",
        "            \"name\": \"IoT Development\",\n",
        "            \"techStack\": [\"IoT Platforms\", \"Embedded Systems\", \"Arduino\", \"Raspberry Pi\"]\n",
        "        }\n",
        "        # ... Add more domains based on the provided unique domains\n",
        "    ]\n",
        "}\n",
        "\n",
        "\n",
        "\n",
        "# Specify the file path where you want to save the JSON file\n",
        "json_file_path = 'tech_stack.json'\n",
        "\n",
        "# Write the dictionary to the JSON file\n",
        "with open(json_file_path, 'w') as json_file:\n",
        "    json.dump(tech_stack_data, json_file, indent=2)\n",
        "\n",
        "print(f'Tech stack data has been written to {json_file_path}')\n"
      ]
    },
    {
      "cell_type": "code",
      "execution_count": 68,
      "metadata": {
        "colab": {
          "base_uri": "https://localhost:8080/"
        },
        "id": "f97ZR4lei1oO",
        "outputId": "56e30687-5a44-4d23-db03-3cc230aa1601"
      },
      "outputs": [
        {
          "output_type": "stream",
          "name": "stdout",
          "text": [
            "Keval_Shah_Resume.pdf  PY_data.json  sample_data  tech_stack.json\n"
          ]
        }
      ],
      "source": [
        "!ls"
      ]
    },
    {
      "cell_type": "code",
      "execution_count": 69,
      "metadata": {
        "colab": {
          "base_uri": "https://localhost:8080/"
        },
        "id": "YYb4t8JZjQ4c",
        "outputId": "3ee8d19a-e693-4292-fef6-e584c01ada2b"
      },
      "outputs": [
        {
          "output_type": "stream",
          "name": "stdout",
          "text": [
            "Unique Names: {'Web Development', 'UI/UX Design', 'Database Management', 'Frontend Development', 'DevOps', 'Machine Learning', 'Desktop App Development', 'Market Research', 'IoT Development', 'Data Science', 'Digital Marketing', 'Cloud Computing', 'Mobile App Development', 'Virtual Reality', 'Backend Development'}\n"
          ]
        }
      ],
      "source": [
        "import json\n",
        "\n",
        "# Read the JSON file\n",
        "with open('tech_stack.json') as json_file:\n",
        "    df1 = json.load(json_file)\n",
        "\n",
        "# Access the \"Domains\" field and extract unique values of the \"name\" field\n",
        "unique_names = set(domain[\"name\"] for domain in df1[\"Domains\"])\n",
        "\n",
        "# Print the unique names\n",
        "print(\"Unique Names:\", unique_names)\n"
      ]
    },
    {
      "cell_type": "code",
      "execution_count": 70,
      "metadata": {
        "colab": {
          "base_uri": "https://localhost:8080/"
        },
        "id": "poND6lDXlrSu",
        "outputId": "eba881f1-54d2-48de-cc0b-7d512f780814"
      },
      "outputs": [
        {
          "output_type": "stream",
          "name": "stdout",
          "text": [
            "Unique Domains: {'', ' Virtual Reality', ' Desktop App Development', ' Full Stack Web Development', ' Chatbot Development', ' E-commerce Development', ' E-learning Development', ' Web Design', ' Natural Language Processing', ' Search Engine Optimization', ' Predictive Maintenance', ' Security', ' User Testing', ' Mobile App Development', ' Backend Development', ' Network Security', ' Database Management', ' DevOps', ' Data Analysis', ' Cloud Computing', ' User Experience', ' Domain', ' Software Development', ' Data Analytics', ' Financial Software', ' Mobile App Optimization', ' Software Architecture', ' Web Development', ' Game Development', ' Website Optimization', ' Machine Learning', ' Graphic Design', ' Data Visualization', ' Data Science', ' Mobile App Design', ' Chat Application', ' Augmented Reality', ' Market Research', ' Digital Marketing', ' IoT Development', ' Location-based Services', ' UI/UX Design'}\n"
          ]
        }
      ],
      "source": [
        "with open('PY_data.json') as json_file:\n",
        "    df2 = json.load(json_file)\n",
        "\n",
        "unique_domains = set(item[\"Domain\"] for item in df2)\n",
        "\n",
        "print(\"Unique Domains:\", unique_domains)"
      ]
    },
    {
      "cell_type": "code",
      "execution_count": 71,
      "metadata": {
        "colab": {
          "base_uri": "https://localhost:8080/"
        },
        "id": "PkERrszrmSHi",
        "outputId": "32168312-e0ba-4f52-ce7d-b63ab681c831"
      },
      "outputs": [
        {
          "output_type": "execute_result",
          "data": {
            "text/plain": [
              "42"
            ]
          },
          "metadata": {},
          "execution_count": 71
        }
      ],
      "source": [
        "len(unique_domains)"
      ]
    },
    {
      "cell_type": "code",
      "execution_count": 72,
      "metadata": {
        "colab": {
          "base_uri": "https://localhost:8080/"
        },
        "id": "xm4Is5bJmuKA",
        "outputId": "69f7f05a-dfa1-4d7a-9f7f-9e05b869c70c"
      },
      "outputs": [
        {
          "output_type": "stream",
          "name": "stdout",
          "text": [
            "Domain: machine learning\n",
            "Tech Stack: Python, TensorFlow, Scikit-Learn, PyTorch, Numpy, Pandas\n",
            "\n",
            "\n"
          ]
        }
      ],
      "source": [
        "unique_domains = set(recommended_projects['Domain'])\n",
        "for domain in unique_domains:\n",
        "    print(f\"Domain: {domain}\")\n",
        "\n",
        "    # Assuming 'tech_stack_data' is your second JSON file\n",
        "    matching_domain = next((item for item in tech_stack_data[\"Domains\"] if item[\"name\"].lower() == domain.lower()), None)\n",
        "\n",
        "    if matching_domain:\n",
        "        print(f\"Tech Stack: {', '.join(matching_domain['techStack'])}\")\n",
        "    else:\n",
        "        print(\"No matching tech stack found for this domain.\")\n",
        "    print(\"\\n\")\n"
      ]
    },
    {
      "cell_type": "code",
      "execution_count": 72,
      "metadata": {
        "id": "DIiwUYhlzZeJ"
      },
      "outputs": [],
      "source": []
    },
    {
      "cell_type": "code",
      "execution_count": 73,
      "metadata": {
        "colab": {
          "base_uri": "https://localhost:8080/"
        },
        "id": "6cLoSwvMzZal",
        "outputId": "c249497b-c78c-46d9-f5ee-44716d782200"
      },
      "outputs": [
        {
          "output_type": "stream",
          "name": "stdout",
          "text": [
            "Requirement already satisfied: requests in /usr/local/lib/python3.10/dist-packages (2.31.0)\n",
            "Requirement already satisfied: charset-normalizer<4,>=2 in /usr/local/lib/python3.10/dist-packages (from requests) (3.3.2)\n",
            "Requirement already satisfied: idna<4,>=2.5 in /usr/local/lib/python3.10/dist-packages (from requests) (3.6)\n",
            "Requirement already satisfied: urllib3<3,>=1.21.1 in /usr/local/lib/python3.10/dist-packages (from requests) (2.0.7)\n",
            "Requirement already satisfied: certifi>=2017.4.17 in /usr/local/lib/python3.10/dist-packages (from requests) (2024.2.2)\n"
          ]
        }
      ],
      "source": [
        "!pip install requests"
      ]
    },
    {
      "cell_type": "code",
      "execution_count": 75,
      "metadata": {
        "colab": {
          "base_uri": "https://localhost:8080/"
        },
        "id": "yhXIs5K0Enip",
        "outputId": "79ff430e-31c8-44f5-9fe4-76cce11e9080"
      },
      "outputs": [
        {
          "output_type": "stream",
          "name": "stdout",
          "text": [
            "\n",
            "Top 50 Ai repositories:\n",
            "1. AutoGPT - https://github.com/Significant-Gravitas/AutoGPT (Stars: 157578)\n",
            "2. stable-diffusion-webui - https://github.com/AUTOMATIC1111/stable-diffusion-webui (Stars: 120557)\n",
            "3. gpt-engineer - https://github.com/gpt-engineer-org/gpt-engineer (Stars: 48971)\n",
            "4. ChatGPT - https://github.com/lencx/ChatGPT (Stars: 45467)\n",
            "5. kong - https://github.com/Kong/kong (Stars: 36947)\n",
            "6. ColossalAI - https://github.com/hpcaitech/ColossalAI (Stars: 36355)\n",
            "7. Open-Assistant - https://github.com/LAION-AI/Open-Assistant (Stars: 36286)\n",
            "8. gold-miner - https://github.com/xitu/gold-miner (Stars: 33158)\n",
            "9. MockingBird - https://github.com/babysor/MockingBird (Stars: 33109)\n",
            "10. google-research - https://github.com/google-research/google-research (Stars: 32122)\n",
            "11. photoprism - https://github.com/photoprism/photoprism (Stars: 31428)\n",
            "12. spaCy - https://github.com/explosion/spaCy (Stars: 28216)\n",
            "13. AI-Expert-Roadmap - https://github.com/AMAI-GmbH/AI-Expert-Roadmap (Stars: 27850)\n",
            "14. quivr - https://github.com/QuivrHQ/quivr (Stars: 27787)\n",
            "15. AI-For-Beginners - https://github.com/microsoft/AI-For-Beginners (Stars: 27288)\n",
            "16. GitHubDaily - https://github.com/GitHubDaily/GitHubDaily (Stars: 26687)\n",
            "17. pytorch-lightning - https://github.com/Lightning-AI/pytorch-lightning (Stars: 26172)\n",
            "18. netron - https://github.com/lutzroeder/netron (Stars: 25410)\n",
            "19. Mr.-Ranedeer-AI-Tutor - https://github.com/JushBJJ/Mr.-Ranedeer-AI-Tutor (Stars: 24081)\n",
            "20. roop - https://github.com/s0md3v/roop (Stars: 23698)\n",
            "21. generative-ai-for-beginners - https://github.com/microsoft/generative-ai-for-beginners (Stars: 23687)\n",
            "22. so-vits-svc - https://github.com/svc-develop-team/so-vits-svc (Stars: 22660)\n",
            "23. upscayl - https://github.com/upscayl/upscayl (Stars: 22575)\n",
            "24. gpt-pilot - https://github.com/Pythagora-io/gpt-pilot (Stars: 21345)\n",
            "25. chatgpt-on-wechat - https://github.com/zhayujie/chatgpt-on-wechat (Stars: 21197)\n",
            "26. learnopencv - https://github.com/spmallick/learnopencv (Stars: 19944)\n",
            "27. mindsdb - https://github.com/mindsdb/mindsdb (Stars: 19880)\n",
            "28. lobe-chat - https://github.com/lobehub/lobe-chat (Stars: 17655)\n",
            "29. chatbox - https://github.com/Bin-Huang/chatbox (Stars: 16940)\n",
            "30. mojo - https://github.com/modularml/mojo (Stars: 16756)\n",
            "31. mlflow - https://github.com/mlflow/mlflow (Stars: 16726)\n",
            "32. semantic-kernel - https://github.com/microsoft/semantic-kernel (Stars: 16658)\n",
            "33. LocalAI - https://github.com/mudler/LocalAI (Stars: 16358)\n",
            "34. h4cker - https://github.com/The-Art-of-Hacking/h4cker (Stars: 15820)\n",
            "35. carrot - https://github.com/xx025/carrot (Stars: 15813)\n",
            "36. tabby - https://github.com/TabbyML/tabby (Stars: 15627)\n",
            "37. AirSim - https://github.com/microsoft/AirSim (Stars: 15609)\n",
            "38. daily - https://github.com/dailydotdev/daily (Stars: 15563)\n",
            "39. chatgpt-api - https://github.com/transitive-bullshit/chatgpt-api (Stars: 15514)\n",
            "40. dify - https://github.com/langgenius/dify (Stars: 15378)\n",
            "41. stable-diffusion-webui-colab - https://github.com/camenduru/stable-diffusion-webui-colab (Stars: 14807)\n",
            "42. leon - https://github.com/leon-ai/leon (Stars: 14221)\n",
            "43. DocsGPT - https://github.com/arc53/DocsGPT (Stars: 13830)\n",
            "44. SuperAGI - https://github.com/TransformerOptimus/SuperAGI (Stars: 13735)\n",
            "45. frigate - https://github.com/blakeblackshear/frigate (Stars: 13495)\n",
            "46. lively - https://github.com/rocksdanister/lively (Stars: 13313)\n",
            "47. ML-YouTube-Courses - https://github.com/dair-ai/ML-YouTube-Courses (Stars: 13093)\n",
            "48. KeepChatGPT - https://github.com/xcanwin/KeepChatGPT (Stars: 13077)\n",
            "49. dalai - https://github.com/cocktailpeanut/dalai (Stars: 13021)\n",
            "50. dvc - https://github.com/iterative/dvc (Stars: 12863)\n",
            "\n",
            "Top 50 Data science repositories:\n",
            "1. machine-learning-mindmap - https://github.com/dformoso/machine-learning-mindmap (Stars: 5979)\n",
            "2. quadratic - https://github.com/quadratichq/quadratic (Stars: 2560)\n",
            "3. colour - https://github.com/colour-science/colour (Stars: 1902)\n",
            "4. deeplearning-mindmap - https://github.com/dformoso/deeplearning-mindmap (Stars: 1593)\n",
            "5. covid19_scenarios - https://github.com/neherlab/covid19_scenarios (Stars: 1366)\n",
            "6. Book6_First-Course-in-Data-Science - https://github.com/Visualize-ML/Book6_First-Course-in-Data-Science (Stars: 1321)\n",
            "7. yt-channels-DS-AI-ML-CS - https://github.com/benthecoder/yt-channels-DS-AI-ML-CS (Stars: 1248)\n",
            "8. ArcticDB - https://github.com/man-group/ArcticDB (Stars: 953)\n",
            "9. kuwala - https://github.com/kuwala-io/kuwala (Stars: 755)\n",
            "10. sklearn-classification - https://github.com/dformoso/sklearn-classification (Stars: 675)\n",
            "11. featran - https://github.com/spotify/featran (Stars: 467)\n",
            "12. Agile_Data_Code_2 - https://github.com/rjurney/Agile_Data_Code_2 (Stars: 455)\n",
            "13. JuliaDataScience - https://github.com/JuliaDataScience/JuliaDataScience (Stars: 441)\n",
            "14. Best-Data-Science-Resources - https://github.com/Mohitkr95/Best-Data-Science-Resources (Stars: 439)\n",
            "15. data-science-learning-resources - https://github.com/rebecca-vickery/data-science-learning-resources (Stars: 403)\n",
            "16. introduction-datascience-python-book - https://github.com/DataScienceUB/introduction-datascience-python-book (Stars: 403)\n",
            "17. Data-Science-Hacks - https://github.com/kunalj101/Data-Science-Hacks (Stars: 387)\n",
            "18. datascience_course - https://github.com/sn3fru/datascience_course (Stars: 306)\n",
            "19. data_science_blogs - https://github.com/MLWhiz/data_science_blogs (Stars: 252)\n",
            "20. awesome-colour - https://github.com/colour-science/awesome-colour (Stars: 249)\n",
            "21. anaconda-project - https://github.com/Anaconda-Platform/anaconda-project (Stars: 215)\n",
            "22. Data-Science-Resources - https://github.com/storieswithsiva/Data-Science-Resources (Stars: 197)\n",
            "23. ds - https://github.com/matyushkin/ds (Stars: 165)\n",
            "24. Computer-Science-in-Java - https://github.com/lironmiz/Computer-Science-in-Java (Stars: 155)\n",
            "25. DataDeps.jl - https://github.com/oxinabox/DataDeps.jl (Stars: 146)\n",
            "26. Data-Science-Learning-Material - https://github.com/cornelliusyudhawijaya/Data-Science-Learning-Material (Stars: 142)\n",
            "27. IBM_Data_Science_Professional_Certification - https://github.com/navassherif98/IBM_Data_Science_Professional_Certification (Stars: 141)\n",
            "28. pydap - https://github.com/pydap/pydap (Stars: 128)\n",
            "29. cloud-data-analysis-at-scale - https://github.com/noahgift/cloud-data-analysis-at-scale (Stars: 127)\n",
            "30. datavisguide - https://github.com/royal-statistical-society/datavisguide (Stars: 120)\n",
            "31. fireant - https://github.com/kayak/fireant (Stars: 116)\n",
            "32. edamontology - https://github.com/edamontology/edamontology (Stars: 113)\n",
            "33. SHARE - https://github.com/CenterForOpenScience/SHARE (Stars: 97)\n",
            "34. data-ethics-club - https://github.com/very-good-science/data-ethics-club (Stars: 74)\n",
            "35. pem-dataset1 - https://github.com/ECSIM/pem-dataset1 (Stars: 73)\n",
            "36. data_science_portfolio - https://github.com/melvfnz/data_science_portfolio (Stars: 71)\n",
            "37. Synthetic-data-gen - https://github.com/tirthajyoti/Synthetic-data-gen (Stars: 71)\n",
            "38. seek - https://github.com/seek4science/seek (Stars: 70)\n",
            "39. data-resources - https://github.com/katiejolly/data-resources (Stars: 69)\n",
            "40. geospatial-data-science-with-julia - https://github.com/JuliaEarth/geospatial-data-science-with-julia (Stars: 65)\n",
            "41. open-russian-data - https://github.com/abnegantes/open-russian-data (Stars: 64)\n",
            "42. knime-python - https://github.com/knime/knime-python (Stars: 63)\n",
            "43. python_stepwiseSelection - https://github.com/talhahascelik/python_stepwiseSelection (Stars: 56)\n",
            "44. prodmodel - https://github.com/prodmodel/prodmodel (Stars: 56)\n",
            "45. Data-Science-Series - https://github.com/gitsuraaj/Data-Science-Series (Stars: 53)\n",
            "46. colour-datasets - https://github.com/colour-science/colour-datasets (Stars: 51)\n",
            "47. srdb - https://github.com/bpbond/srdb (Stars: 49)\n",
            "48. rdataretriever - https://github.com/ropensci/rdataretriever (Stars: 44)\n",
            "49. Data_Science - https://github.com/luislauriano/Data_Science (Stars: 42)\n",
            "50. covid19_scenarios_data - https://github.com/neherlab/covid19_scenarios_data (Stars: 42)\n"
          ]
        }
      ],
      "source": [
        "import requests\n",
        "\n",
        "def get_top_repositories(domain):\n",
        "    url = f\"https://api.github.com/search/repositories?q=stars:>1+topic:{domain}&sort=stars&order=desc&per_page=50\"\n",
        "    headers = {\n",
        "        \"Accept\": \"application/vnd.github.v3+json\"\n",
        "    }\n",
        "    response = requests.get(url, headers=headers)\n",
        "    if response.status_code == 200:\n",
        "        repositories = response.json()[\"items\"]\n",
        "        return repositories\n",
        "    else:\n",
        "        print(f\"Failed to fetch repositories for domain '{domain}'. Status code: {response.status_code}\")\n",
        "        return None\n",
        "\n",
        "def display_top_repositories(domains):\n",
        "    for domain in domains:\n",
        "        print(f\"\\nTop 50 {domain.capitalize()} repositories:\")\n",
        "        repositories = get_top_repositories(domain)\n",
        "        if repositories:\n",
        "            for index, repo in enumerate(repositories, start=1):\n",
        "                print(f\"{index}. {repo['name']} - {repo['html_url']} (Stars: {repo['stargazers_count']})\")\n",
        "\n",
        "\n",
        "domains = ['AI','Data Science']\n",
        "\n",
        "\n",
        "display_top_repositories(domains)"
      ]
    },
    {
      "cell_type": "code",
      "source": [
        "display_top_repositories(domains=['Backend Development'])"
      ],
      "metadata": {
        "colab": {
          "base_uri": "https://localhost:8080/"
        },
        "id": "gnfPe_h8Ha_-",
        "outputId": "2dd80ed0-2094-49bd-8cab-ede065931a6f"
      },
      "execution_count": 77,
      "outputs": [
        {
          "output_type": "stream",
          "name": "stdout",
          "text": [
            "\n",
            "Top 50 Backend development repositories:\n",
            "1. awesome-cheatsheets - https://github.com/LeCoupa/awesome-cheatsheets (Stars: 36204)\n",
            "2. GitHubDaily - https://github.com/GitHubDaily/GitHubDaily (Stars: 26687)\n",
            "3. domain-driven-hexagon - https://github.com/Sairyss/domain-driven-hexagon (Stars: 11018)\n",
            "4. encore - https://github.com/encoredev/encore (Stars: 4295)\n",
            "5. mirrord - https://github.com/metalbear-co/mirrord (Stars: 3217)\n",
            "6. devmap - https://github.com/zualex/devmap (Stars: 2242)\n",
            "7. backend-cheats - https://github.com/cheatsnake/backend-cheats (Stars: 2076)\n",
            "8. NotyKT - https://github.com/PatilShreyas/NotyKT (Stars: 1617)\n",
            "9. dev-practice - https://github.com/alinebastos/dev-practice (Stars: 1525)\n",
            "10. Java-Notes - https://github.com/PansonPanson/Java-Notes (Stars: 1516)\n",
            "11. backend-best-practices - https://github.com/Sairyss/backend-best-practices (Stars: 1260)\n",
            "12. layr - https://github.com/layrjs/layr (Stars: 1212)\n",
            "13. local-web-server - https://github.com/lwsjs/local-web-server (Stars: 1162)\n",
            "14. learn-nodejs-hard-way - https://github.com/ishtms/learn-nodejs-hard-way (Stars: 1098)\n",
            "15. rails-handbook - https://github.com/infinum/rails-handbook (Stars: 766)\n",
            "16. structr - https://github.com/structr/structr (Stars: 756)\n",
            "17. Saturn - https://github.com/SaturnFramework/Saturn (Stars: 688)\n",
            "18. curriculum - https://github.com/HackYourFuture/curriculum (Stars: 662)\n",
            "19. GoldenEye - https://github.com/oskardudycz/GoldenEye (Stars: 275)\n",
            "20. plumier - https://github.com/plumier/plumier (Stars: 259)\n",
            "21. mentorship-backend - https://github.com/anitab-org/mentorship-backend (Stars: 189)\n",
            "22. laravel-api-boilerplate - https://github.com/Treblle/laravel-api-boilerplate (Stars: 168)\n",
            "23. Frapper - https://github.com/saineshwar/Frapper (Stars: 157)\n",
            "24. learn-to-code - https://github.com/jamezmca/learn-to-code (Stars: 135)\n",
            "25. hsdev - https://github.com/mvoidex/hsdev (Stars: 130)\n",
            "26. vaahcms - https://github.com/webreinvent/vaahcms (Stars: 114)\n",
            "27. tinyhttp - https://github.com/deno-libs/tinyhttp (Stars: 107)\n",
            "28. Full-Stack-Development-Learning-Path - https://github.com/kaiwalyakoparkar/Full-Stack-Development-Learning-Path (Stars: 104)\n",
            "29. SelfAssessment - https://github.com/HowProgrammingWorks/SelfAssessment (Stars: 104)\n",
            "30. web-developer-roadmap - https://github.com/canopas/web-developer-roadmap (Stars: 98)\n",
            "31. sharkio - https://github.com/sharkio-dev/sharkio (Stars: 91)\n",
            "32. sisyphus - https://github.com/ButterCam/sisyphus (Stars: 88)\n",
            "33. utilmeta-py - https://github.com/utilmeta/utilmeta-py (Stars: 84)\n",
            "34. awesome-python-backend - https://github.com/Eldar1205/awesome-python-backend (Stars: 80)\n",
            "35. Backend-Specialization - https://github.com/xoraus/Backend-Specialization (Stars: 77)\n",
            "36. road-to-Go-and-beyond - https://github.com/sinamna/road-to-Go-and-beyond (Stars: 77)\n",
            "37. gaia - https://github.com/romange/gaia (Stars: 76)\n",
            "38. Trybe-School - https://github.com/juliettebeaudet/Trybe-School (Stars: 73)\n",
            "39. Flask-MVC-Template - https://github.com/CharlyJazz/Flask-MVC-Template (Stars: 58)\n",
            "40. gf2-demo - https://github.com/windvalley/gf2-demo (Stars: 57)\n",
            "41. simple-nodejs-scaffold - https://github.com/dibosh/simple-nodejs-scaffold (Stars: 54)\n",
            "42. ConfTalks - https://github.com/EddyVinck/ConfTalks (Stars: 52)\n",
            "43. fullstack-roadmap - https://github.com/abdulrahmanAlotaibi/fullstack-roadmap (Stars: 47)\n",
            "44. lws - https://github.com/lwsjs/lws (Stars: 44)\n",
            "45. turbo - https://github.com/asim/turbo (Stars: 41)\n",
            "46. the-hot-tech-blogs - https://github.com/hehonghui/the-hot-tech-blogs (Stars: 39)\n",
            "47. ethathon - https://github.com/scio-labs/ethathon (Stars: 38)\n",
            "48. erp-auto-login - https://github.com/metakgp/erp-auto-login (Stars: 33)\n",
            "49. webdevelopment-project - https://github.com/DrakeAxelrod/webdevelopment-project (Stars: 29)\n",
            "50. 100xDevs-Cohort-2.0 - https://github.com/iamRishvanth/100xDevs-Cohort-2.0 (Stars: 26)\n"
          ]
        }
      ]
    },
    {
      "cell_type": "code",
      "source": [
        "display_top_repositories(domains=[domain])"
      ],
      "metadata": {
        "colab": {
          "base_uri": "https://localhost:8080/"
        },
        "id": "BfV40xRNHoas",
        "outputId": "d3d43b9d-93dc-49da-c910-6eb29460de72"
      },
      "execution_count": 78,
      "outputs": [
        {
          "output_type": "stream",
          "name": "stdout",
          "text": [
            "\n",
            "Top 50 Machine learning repositories:\n",
            "1. mit-deep-learning-book-pdf - https://github.com/janishar/mit-deep-learning-book-pdf (Stars: 12117)\n",
            "2. machine-learning-mindmap - https://github.com/dformoso/machine-learning-mindmap (Stars: 5979)\n",
            "3. rapping-neural-network - https://github.com/robbiebarrat/rapping-neural-network (Stars: 1035)\n",
            "4. awesome-machine-learning - https://github.com/onmyway133/awesome-machine-learning (Stars: 792)\n",
            "5. DeepJ - https://github.com/calclavia/DeepJ (Stars: 720)\n",
            "6. HungaBunga - https://github.com/ypeleg/HungaBunga (Stars: 704)\n",
            "7. sklearn-classification - https://github.com/dformoso/sklearn-classification (Stars: 675)\n",
            "8. practical-mlops-book - https://github.com/paiml/practical-mlops-book (Stars: 617)\n",
            "9. moviebox - https://github.com/klaudiosinani/moviebox (Stars: 521)\n",
            "10. neptune-client - https://github.com/neptune-ai/neptune-client (Stars: 482)\n",
            "11. SharpLearning - https://github.com/mdabros/SharpLearning (Stars: 372)\n",
            "12. modelStudio - https://github.com/ModelOriented/modelStudio (Stars: 316)\n",
            "13. DeepSort - https://github.com/CorentinB/DeepSort (Stars: 238)\n",
            "14. mrcl - https://github.com/khurramjaved96/mrcl (Stars: 188)\n",
            "15. Retro-Learning-Environment - https://github.com/nadavbh12/Retro-Learning-Environment (Stars: 183)\n",
            "16. Makine-Ogrenmesi - https://github.com/SerayBeser/Makine-Ogrenmesi (Stars: 138)\n",
            "17. scenescoop - https://github.com/cvalenzuela/scenescoop (Stars: 127)\n",
            "18. Sigma - https://github.com/ThinkingTransistor/Sigma (Stars: 121)\n",
            "19. Predictive_Maintenance_using_Machine-Learning_Microsoft_Casestudy - https://github.com/ashishpatel26/Predictive_Maintenance_using_Machine-Learning_Microsoft_Casestudy (Stars: 104)\n",
            "20. practical-ml-for-cybersecurity - https://github.com/shramos/practical-ml-for-cybersecurity (Stars: 101)\n",
            "21. mlearn - https://github.com/materialsvirtuallab/mlearn (Stars: 100)\n",
            "22. iOS11-VisionFrameWork - https://github.com/gunapandianraj/iOS11-VisionFrameWork (Stars: 95)\n",
            "23. surv_ai - https://github.com/DanielBalsam/surv_ai (Stars: 91)\n",
            "24. qgate-model - https://github.com/george0st/qgate-model (Stars: 90)\n",
            "25. computer-vision-ND - https://github.com/Bjarten/computer-vision-ND (Stars: 89)\n",
            "26. opml - https://github.com/hyperoracle/opml (Stars: 74)\n",
            "27. machine_learning_examples - https://github.com/nithyadurai87/machine_learning_examples (Stars: 69)\n",
            "28. GPT2-Telegram-Chatbot - https://github.com/xmaromix/GPT2-Telegram-Chatbot (Stars: 69)\n",
            "29. Deep-LearningAI - https://github.com/GSimas/Deep-LearningAI (Stars: 68)\n",
            "30. survshap - https://github.com/MI2DataLab/survshap (Stars: 66)\n",
            "31. MSDS696-Masters-Final-Project - https://github.com/Vettejeep/MSDS696-Masters-Final-Project (Stars: 63)\n",
            "32. MALWARE-DETECTION-FINAL-YEAR-PROJECT - https://github.com/Vatshayan/MALWARE-DETECTION-FINAL-YEAR-PROJECT (Stars: 63)\n",
            "33. dance2dance - https://github.com/pkmital/dance2dance (Stars: 60)\n",
            "34. GPT3-Telegram-Chatbot - https://github.com/xmaromix/GPT3-Telegram-Chatbot (Stars: 53)\n",
            "35. reinforcement-learning-resources - https://github.com/datascienceid/reinforcement-learning-resources (Stars: 52)\n",
            "36. wearable_stress_classification - https://github.com/chriotte/wearable_stress_classification (Stars: 49)\n",
            "37. TensorFI - https://github.com/DependableSystemsLab/TensorFI (Stars: 45)\n",
            "38. landmap - https://github.com/Envirometrix/landmap (Stars: 44)\n",
            "39. Machine-Learning - https://github.com/aydinnyunus/Machine-Learning (Stars: 43)\n",
            "40. edge-computer-vision - https://github.com/noahgift/edge-computer-vision (Stars: 43)\n",
            "41. CryptoInscriber - https://github.com/Optixal/CryptoInscriber (Stars: 43)\n",
            "42. Tensorflow-Image-Classification - https://github.com/AxelAli/Tensorflow-Image-Classification (Stars: 42)\n",
            "43. distracted-driver-detection - https://github.com/luisarojas/distracted-driver-detection (Stars: 40)\n",
            "44. Neural-Tile - https://github.com/ProGamerGov/Neural-Tile (Stars: 37)\n",
            "45. lobe - https://github.com/davidawad/lobe (Stars: 35)\n",
            "46. net_intrusion_detection - https://github.com/Jumabek/net_intrusion_detection (Stars: 34)\n",
            "47. rsgislib-tutorials - https://github.com/remotesensinginfo/rsgislib-tutorials (Stars: 33)\n",
            "48. uLAPack - https://github.com/SargisYonan/uLAPack (Stars: 30)\n",
            "49. Google-Stock-Price-Prediction-by-Deep-Learning - https://github.com/Projects-Developer/Google-Stock-Price-Prediction-by-Deep-Learning (Stars: 28)\n",
            "50. JPMC-Quant-Challenge-2022 - https://github.com/aaryan2134/JPMC-Quant-Challenge-2022 (Stars: 28)\n"
          ]
        }
      ]
    },
    {
      "cell_type": "code",
      "source": [],
      "metadata": {
        "id": "_hSid4tIYwtM"
      },
      "execution_count": null,
      "outputs": []
    }
  ],
  "metadata": {
    "colab": {
      "provenance": []
    },
    "kernelspec": {
      "display_name": "Python 3",
      "name": "python3"
    },
    "language_info": {
      "name": "python"
    }
  },
  "nbformat": 4,
  "nbformat_minor": 0
}